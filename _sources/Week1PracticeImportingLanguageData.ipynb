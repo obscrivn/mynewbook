{
 "cells": [
  {
   "cell_type": "markdown",
   "metadata": {},
   "source": [
    "# Language Data Sources"
   ]
  },
  {
   "cell_type": "markdown",
   "metadata": {},
   "source": [
    "## PDF Import"
   ]
  },
  {
   "cell_type": "code",
   "execution_count": 1,
   "metadata": {},
   "outputs": [],
   "source": [
    "import PyPDF2"
   ]
  },
  {
   "cell_type": "code",
   "execution_count": 2,
   "metadata": {},
   "outputs": [],
   "source": [
    "pdfFileObject = open('test.pdf','rb')"
   ]
  },
  {
   "cell_type": "code",
   "execution_count": 3,
   "metadata": {},
   "outputs": [
    {
     "name": "stdout",
     "output_type": "stream",
     "text": [
      "1\n"
     ]
    }
   ],
   "source": [
    "pdfReaderObject = PyPDF2.PdfFileReader(pdfFileObject)\n",
    "print(pdfReaderObject.numPages)"
   ]
  },
  {
   "cell_type": "code",
   "execution_count": 11,
   "metadata": {},
   "outputs": [],
   "source": [
    "firstPageObject = pdfReaderObject.getPage(0)\n",
    "#print(firstPageObject.extractText())"
   ]
  },
  {
   "cell_type": "markdown",
   "metadata": {},
   "source": [
    "Extract all text for processing"
   ]
  },
  {
   "cell_type": "code",
   "execution_count": 5,
   "metadata": {},
   "outputs": [],
   "source": [
    "pdf_data = \"\"\n",
    "number_of_pages = pdfReaderObject.numPages\n",
    "for page_number in range(number_of_pages):   # use xrange in Py2\n",
    "    page = pdfReaderObject.getPage(page_number)\n",
    "    page_content = page.extractText()\n",
    "    pdf_data+=page_content"
   ]
  },
  {
   "cell_type": "code",
   "execution_count": 7,
   "metadata": {},
   "outputs": [
    {
     "data": {
      "text/plain": [
       "\" \\nLorem Ipsum\\n \\nis simply dummy text of the printing and typesetting industry. Lorem Ipsum has been \\nthe industry's standard dummy text ever since the 1500s, when an unknown printer took a galley of \\ntype and scrambled it to make a type specimen book. It has survived not o\\nnly five centuries, but also \\nthe leap into electronic typesetting, remaining essentially unchanged. It was popularised in the 1960s \\nwith the release of Letraset sheets containing Lorem Ipsum passages, and more recently with desktop \\npublishing software like\\n \\nAldus PageMaker including versions of Lorem Ipsum.\\n \\nWhy do we use it?\\n \\nIt is a long established fact that a reader will be distracted by the readable content of a page when \\nlooking at its layout. The point of using Lorem Ipsum is that it has a more\\n-\\nor\\n-\\nless \\nnormal distribution \\nof letters, as opposed to using 'Content here, content here', making it look like readable English. Many \\ndesktop publishing packages and web page editors now use Lorem Ipsum as their default model text, \\nand a search for 'lorem ipsum' wi\\nll uncover many web sites still in their infancy. Various versions have \\nevolved over the years, sometimes by accident, sometimes on purpose (injected humour and the like).\\n \\n \\n\""
      ]
     },
     "execution_count": 7,
     "metadata": {},
     "output_type": "execute_result"
    }
   ],
   "source": [
    "pdf_data = []\n",
    "number_of_pages = pdfReaderObject.numPages\n",
    "for page_number in range(number_of_pages):   # use xrange in Py2\n",
    "    page = pdfReaderObject.getPage(page_number)\n",
    "    page_content = page.extractText()\n",
    "    pdf_data.append(page_content)\n",
    "' '.join(pdf_data)"
   ]
  },
  {
   "cell_type": "code",
   "execution_count": 22,
   "metadata": {},
   "outputs": [],
   "source": [
    "pdfFileObject.close()"
   ]
  },
  {
   "cell_type": "code",
   "execution_count": 24,
   "metadata": {},
   "outputs": [],
   "source": [
    "#pdf_data"
   ]
  },
  {
   "cell_type": "markdown",
   "metadata": {},
   "source": [
    "## JSON Documents"
   ]
  },
  {
   "cell_type": "code",
   "execution_count": 9,
   "metadata": {},
   "outputs": [],
   "source": [
    "import requests\n",
    "import json"
   ]
  },
  {
   "cell_type": "code",
   "execution_count": 10,
   "metadata": {},
   "outputs": [
    {
     "name": "stdout",
     "output_type": "stream",
     "text": [
      "{\n",
      "    \"success\": {\n",
      "        \"total\": 1\n",
      "    },\n",
      "    \"contents\": {\n",
      "        \"quotes\": [\n",
      "            {\n",
      "                \"quote\": \"Your time is limited, so don't waste it living someone else's life. Don't be trapped by dogma - which is living with the results of other people's thinking. Don't let the noise of other's opinions drown out your own inner voice. And most important, have the courage to follow your heart and intuition. They somehow already know what you truly want to become. Everything else is secondary.\",\n",
      "                \"length\": \"388\",\n",
      "                \"author\": \"Steve Jobs\",\n",
      "                \"tags\": [\n",
      "                    \"inspire\",\n",
      "                    \"life\",\n",
      "                    \"time\",\n",
      "                    \"tod\",\n",
      "                    \"truth\",\n",
      "                    \"tso-top-100\"\n",
      "                ],\n",
      "                \"category\": \"inspire\",\n",
      "                \"language\": \"en\",\n",
      "                \"date\": \"2020-08-11\",\n",
      "                \"permalink\": \"https://theysaidso.com/quote/steve-jobs-your-time-is-limited-so-dont-waste-it-living-someone-elses-life-dont\",\n",
      "                \"id\": \"RmGoiti7Oqz4LFSHrM_dIAeF\",\n",
      "                \"background\": \"https://theysaidso.com/img/qod/qod-inspire.jpg\",\n",
      "                \"title\": \"Inspiring Quote of the day\"\n",
      "            }\n",
      "        ]\n",
      "    },\n",
      "    \"baseurl\": \"https://theysaidso.com\",\n",
      "    \"copyright\": {\n",
      "        \"year\": 2022,\n",
      "        \"url\": \"https://theysaidso.com\"\n",
      "    }\n",
      "}\n"
     ]
    }
   ],
   "source": [
    "r = requests.get(\"https://quotes.rest/qod.json\")\n",
    "res = r.json()\n",
    "print(json.dumps(res, indent = 4))"
   ]
  },
  {
   "cell_type": "code",
   "execution_count": 11,
   "metadata": {},
   "outputs": [],
   "source": [
    "#extract contents\n",
    "q = res['contents']['quotes'][0]"
   ]
  },
  {
   "cell_type": "code",
   "execution_count": 13,
   "metadata": {},
   "outputs": [
    {
     "data": {
      "text/plain": [
       "{'quote': \"Your time is limited, so don't waste it living someone else's life. Don't be trapped by dogma - which is living with the results of other people's thinking. Don't let the noise of other's opinions drown out your own inner voice. And most important, have the courage to follow your heart and intuition. They somehow already know what you truly want to become. Everything else is secondary.\",\n",
       " 'length': '388',\n",
       " 'author': 'Steve Jobs',\n",
       " 'tags': ['inspire', 'life', 'time', 'tod', 'truth', 'tso-top-100'],\n",
       " 'category': 'inspire',\n",
       " 'language': 'en',\n",
       " 'date': '2020-08-11',\n",
       " 'permalink': 'https://theysaidso.com/quote/steve-jobs-your-time-is-limited-so-dont-waste-it-living-someone-elses-life-dont',\n",
       " 'id': 'RmGoiti7Oqz4LFSHrM_dIAeF',\n",
       " 'background': 'https://theysaidso.com/img/qod/qod-inspire.jpg',\n",
       " 'title': 'Inspiring Quote of the day'}"
      ]
     },
     "execution_count": 13,
     "metadata": {},
     "output_type": "execute_result"
    }
   ],
   "source": [
    "q"
   ]
  },
  {
   "cell_type": "code",
   "execution_count": 12,
   "metadata": {},
   "outputs": [
    {
     "name": "stdout",
     "output_type": "stream",
     "text": [
      "Your time is limited, so don't waste it living someone else's life. Don't be trapped by dogma - which is living with the results of other people's thinking. Don't let the noise of other's opinions drown out your own inner voice. And most important, have the courage to follow your heart and intuition. They somehow already know what you truly want to become. Everything else is secondary. \n",
      "-- Steve Jobs\n"
     ]
    }
   ],
   "source": [
    "print(q['quote'], '\\n--', q['author'])"
   ]
  },
  {
   "cell_type": "markdown",
   "metadata": {},
   "source": [
    "## HTML Import"
   ]
  },
  {
   "cell_type": "code",
   "execution_count": 15,
   "metadata": {},
   "outputs": [],
   "source": [
    "import urllib.request as urllib3\n",
    "from bs4 import BeautifulSoup"
   ]
  },
  {
   "cell_type": "code",
   "execution_count": 16,
   "metadata": {},
   "outputs": [],
   "source": [
    "response = urllib3.urlopen('https://en.wikipedia.org/wiki/Natural_language_processing')\n",
    "html_doc = response.read()"
   ]
  },
  {
   "cell_type": "code",
   "execution_count": 18,
   "metadata": {},
   "outputs": [
    {
     "name": "stdout",
     "output_type": "stream",
     "text": [
      "<!DOCTYPE html>\n",
      "<html class=\"client-nojs\" dir=\"ltr\" lang=\"en\">\n",
      " <head>\n",
      "  <meta charset=\"utf-8\"/>\n",
      "  <title>\n",
      "   Natural language processing - Wikipedia\n",
      "  </title>\n",
      "  <script>\n",
      "   document.documentElement.className=\"client-js\";RLCONF={\"wgBreakFrames\":!1,\"wgSeparatorTransformTable\":[\"\",\"\"],\"wgDigitTransformTable\":[\"\",\"\"],\"wgDefaultDateFormat\":\"dmy\",\"wgMonthNames\":[\"\",\"January\",\"February\",\"March\",\"April\",\"May\",\"June\",\"July\",\"August\",\"September\",\"October\",\"November\",\"December\"],\"wgRequestId\":\"f6b1cf01-343e-4415-ada2-7fa2bdd0e4d5\",\"wgCSPNonce\":!1,\"wgCanonicalNamespace\":\"\",\"wgCanonicalSpecialPageName\":!1,\"wgNamespaceNumber\":0,\"wgPageName\":\"Natural_language_processing\",\"wgTitle\":\"Natural language processing\",\"wgCurRevisionId\":971205596,\"wgRevisionId\":971205596,\"wgArticleId\":21652,\"wgIsArticle\":!0,\"wgIsRedirect\":!1,\"wgAction\":\"view\",\"wgUserName\":null,\"wgUserGroups\":[\"*\"],\"wgCategories\":[\"CS1 maint: location\",\"Wikipedia articles needing clarification from October 2019\",\"All accuracy disputes\",\"Arti\n"
     ]
    }
   ],
   "source": [
    "soup = BeautifulSoup(html_doc, 'html.parser')\n",
    "strhtm = soup.prettify()\n",
    "print(strhtm[:1000])"
   ]
  },
  {
   "cell_type": "code",
   "execution_count": 21,
   "metadata": {},
   "outputs": [
    {
     "name": "stdout",
     "output_type": "stream",
     "text": [
      "<title>Natural language processing - Wikipedia</title>\n",
      "Natural language processing - Wikipedia\n"
     ]
    }
   ],
   "source": [
    "print(soup.title)\n",
    "print(soup.title.string)\n",
    "#for x in soup.find_all('p'): print(x.text)"
   ]
  },
  {
   "cell_type": "markdown",
   "metadata": {},
   "source": [
    "## Tweeter API"
   ]
  },
  {
   "cell_type": "code",
   "execution_count": 25,
   "metadata": {},
   "outputs": [],
   "source": [
    "import numpy as np\n",
    "import tweepy\n",
    "import json\n",
    "import pandas as pd\n",
    "from tweepy import OAuthHandler"
   ]
  },
  {
   "cell_type": "code",
   "execution_count": 31,
   "metadata": {},
   "outputs": [],
   "source": [
    "# credentials\n",
    "consumer_key = \"t2EWwOFYA91dahYP54R9BS4SI\"\n",
    "consumer_secret = \"wmYNqFUynYlZdlGWUf8GtcKWNCaYngpI8zasBcblSp2RcOALyf\"\n",
    "access_token = \"457996330-NI5b5oI9rBtPcFqWO17alHPYF7dlltYE8fUxPB5v\"\n",
    "access_token_secret = \"QAdmwDOXlA6WnpaIABZ5dy6MKsX1OztvjF9dIj0P9Lzq3\""
   ]
  },
  {
   "cell_type": "code",
   "execution_count": 32,
   "metadata": {},
   "outputs": [],
   "source": [
    "# calling API\n",
    "auth = tweepy.OAuthHandler(consumer_key, consumer_secret)\n",
    "auth.set_access_token(access_token, access_token_secret)\n",
    "api = tweepy.API(auth)"
   ]
  },
  {
   "cell_type": "code",
   "execution_count": 33,
   "metadata": {},
   "outputs": [],
   "source": [
    "# Provide the query you want to pull the data. For example, pulling data for the mobile phone ABC\n",
    "query =\"ABC\""
   ]
  },
  {
   "cell_type": "code",
   "execution_count": 34,
   "metadata": {},
   "outputs": [
    {
     "name": "stdout",
     "output_type": "stream",
     "text": [
      "RT @JoeBiden: Don't forget that in the middle of this pandemic, the Trump Administration is in court trying to eliminate Obamacare and rip…\n",
      "RT @pjlucky57: This is a strong combination and will return us to the nation we should be.  My vote is #BidenHarris2020 and can’t wait to p…\n",
      "\"Writing fanfiction allowed them to explore much of their own complicated feelings about gender and queerness.\" https://t.co/Gfhp9LOHtM\n",
      "By examining news narrative and sentiment, you can get a pretty good idea of the current trajectory of the state of… https://t.co/YdPJn8KwaL\n",
      "RT @ericweiskott: one thing you just gotta love about Middle English is the plethora of words for 'rebuke'\n",
      "\n",
      "REBUKEN, yes,\n",
      "\n",
      "but also\n",
      "\n",
      "ARATEN…\n",
      "Android users in California will now get an earthquake warning from Google before they feel any shaking https://t.co/80FOflLvP6\n",
      "Humans are basically good: A hopeful look at history and our future https://t.co/o8wTSHNAZJ\n",
      "RT @willsommer: QAnon believer Marjorie Taylor Greene wins a GOP House nomination in a heavily Republican district, meaning a QAnon believe…\n",
      "These Lego-like bricks are actually robots https://t.co/c0sYCj7xZm\n",
      "In an almost entirely online presidential campaign, having a strong digital presence is more important than ever.… https://t.co/saHtVpdFq2\n",
      "10 film classics that are sure to make you love black and white movies: https://t.co/dXr0N3ZXIB https://t.co/2jb362JCMD\n",
      "Dirty Data � Quality Assessment &amp; Cleaning Measures https://t.co/Zhp1vJ5kqp\n",
      "RT @caitlin__kelly: “Especially when we think about operating in this new reality that we’re in, where you really need to build compelling…\n",
      "Turn heads with this self-balancing scooter https://t.co/UXNOg0I80E\n",
      "This robot is training to become a construction worker https://t.co/IC8iFGaluF\n",
      "RT @ajstichter: Hey, we made it to the New &amp; Popular on https://t.co/MjQhCwBSPR! https://t.co/ujyusIaofv #silverspooncaper #puzzlegame http…\n",
      "🔑 We know the importance of secure government apps.\n",
      "\n",
      "See our best practices guide on how to ensure security and pri… https://t.co/JZfjf8v3In\n",
      "ODSC West Virtual Conference 50% OFF Ends Friday. https://t.co/HDn1Y5J7w1  \n",
      "#DataScience #AI #KickStart https://t.co/KZNIciz9Sw\n",
      "If your power went out right now, do you know how long would your freezer would stay cold? https://t.co/IFPD2upWeU https://t.co/kfpL25tOMV\n",
      "Minecraft Education Edition now available for Chromebooks https://t.co/w7GhFENJyM\n"
     ]
    }
   ],
   "source": [
    "#Make call on home timeline, print each tweets text\n",
    "public_tweets = api.home_timeline()\n",
    "for tweet in public_tweets:\n",
    "    print(tweet.text)"
   ]
  },
  {
   "cell_type": "code",
   "execution_count": 45,
   "metadata": {},
   "outputs": [],
   "source": [
    "#public_tweets[0]\n",
    "status = public_tweets[0]\n",
    "json_str = json.dumps(status._json)\n",
    "parsed = json.loads(json_str)\n",
    "#print(json.dumps(parsed, indent=4, sort_keys=True))"
   ]
  },
  {
   "cell_type": "code",
   "execution_count": 41,
   "metadata": {},
   "outputs": [
    {
     "data": {
      "text/plain": [
       "\"RT @JoeBiden: Don't forget that in the middle of this pandemic, the Trump Administration is in court trying to eliminate Obamacare and rip…\""
      ]
     },
     "execution_count": 41,
     "metadata": {},
     "output_type": "execute_result"
    }
   ],
   "source": [
    "status.text"
   ]
  },
  {
   "cell_type": "code",
   "execution_count": 55,
   "metadata": {},
   "outputs": [
    {
     "name": "stdout",
     "output_type": "stream",
     "text": [
      "@sarahcpr @JimmyKimmelLive @RedHourBen @ABC Whaaaa.....\n",
      "Nice shot\n",
      "Good luck\n",
      "Congrats\n",
      "RT @Wontawn_soup: *doesnt show the peaceful protests for 2 months*\n",
      "\n",
      "...\n",
      "RT @AltoCarol: He's not suing \"the government\" ABC - he's suing everyone in WA. Their schools, their hospitals, their services. \n",
      "A whole ye…\n",
      "RT @angelinadivine_: what they forgot to mention was CPD shot a 15 year old\n",
      "@Fletchulator @marxdeane @ConversationEDU Well 10% probably work for ABC so they are #Buttrosed \n",
      "\n",
      "It’s the 5%, our… https://t.co/Yv6xzfqdJ3\n"
     ]
    }
   ],
   "source": [
    "# Fetching tweets with the query \"ABC\"\n",
    "for tweet in tweepy.Cursor(api.search,\n",
    "                           q=\"ABC\",\n",
    "                           rpp=100,\n",
    "                           result_type=\"recent\",\n",
    "                           include_entities=True,\n",
    "                           lang=\"en\").items(5):\n",
    "    print(tweet.text)"
   ]
  },
  {
   "cell_type": "markdown",
   "metadata": {},
   "source": [
    "## Google Trends"
   ]
  },
  {
   "cell_type": "code",
   "execution_count": 1,
   "metadata": {},
   "outputs": [
    {
     "name": "stdout",
     "output_type": "stream",
     "text": [
      "Requirement already satisfied: pytrends in /Users/olgascrivner/anaconda3/lib/python3.7/site-packages (4.7.2)\n",
      "Requirement already satisfied: requests in /Users/olgascrivner/anaconda3/lib/python3.7/site-packages (from pytrends) (2.24.0)\n",
      "Requirement already satisfied: lxml in /Users/olgascrivner/anaconda3/lib/python3.7/site-packages (from pytrends) (4.4.1)\n",
      "Requirement already satisfied: pandas in /Users/olgascrivner/anaconda3/lib/python3.7/site-packages (from pytrends) (0.24.2)\n",
      "Requirement already satisfied: urllib3!=1.25.0,!=1.25.1,<1.26,>=1.21.1 in /Users/olgascrivner/anaconda3/lib/python3.7/site-packages (from requests->pytrends) (1.24.2)\n",
      "Requirement already satisfied: chardet<4,>=3.0.2 in /Users/olgascrivner/anaconda3/lib/python3.7/site-packages (from requests->pytrends) (3.0.4)\n",
      "Requirement already satisfied: certifi>=2017.4.17 in /Users/olgascrivner/anaconda3/lib/python3.7/site-packages (from requests->pytrends) (2020.6.20)\n",
      "Requirement already satisfied: idna<3,>=2.5 in /Users/olgascrivner/anaconda3/lib/python3.7/site-packages (from requests->pytrends) (2.8)\n",
      "Requirement already satisfied: python-dateutil>=2.5.0 in /Users/olgascrivner/anaconda3/lib/python3.7/site-packages (from pandas->pytrends) (2.8.0)\n",
      "Requirement already satisfied: pytz>=2011k in /Users/olgascrivner/anaconda3/lib/python3.7/site-packages (from pandas->pytrends) (2019.2)\n",
      "Requirement already satisfied: numpy>=1.12.0 in /Users/olgascrivner/anaconda3/lib/python3.7/site-packages (from pandas->pytrends) (1.17.2)\n",
      "Requirement already satisfied: six>=1.5 in /Users/olgascrivner/anaconda3/lib/python3.7/site-packages (from python-dateutil>=2.5.0->pandas->pytrends) (1.12.0)\n"
     ]
    }
   ],
   "source": [
    "!pip install pytrends"
   ]
  },
  {
   "cell_type": "code",
   "execution_count": 3,
   "metadata": {},
   "outputs": [],
   "source": [
    "import pandas as pd\n",
    "from pytrends.request import TrendReq\n",
    "pytrend = TrendReq()"
   ]
  },
  {
   "cell_type": "code",
   "execution_count": 4,
   "metadata": {},
   "outputs": [],
   "source": [
    "keywords = ['Python', 'R']"
   ]
  },
  {
   "cell_type": "code",
   "execution_count": 9,
   "metadata": {},
   "outputs": [],
   "source": [
    "pytrend.build_payload(kw_list = keywords, timeframe='2020-07-28 2020-08-29', geo='US')"
   ]
  },
  {
   "cell_type": "code",
   "execution_count": 12,
   "metadata": {},
   "outputs": [
    {
     "data": {
      "text/html": [
       "<div>\n",
       "<style scoped>\n",
       "    .dataframe tbody tr th:only-of-type {\n",
       "        vertical-align: middle;\n",
       "    }\n",
       "\n",
       "    .dataframe tbody tr th {\n",
       "        vertical-align: top;\n",
       "    }\n",
       "\n",
       "    .dataframe thead th {\n",
       "        text-align: right;\n",
       "    }\n",
       "</style>\n",
       "<table border=\"1\" class=\"dataframe\">\n",
       "  <thead>\n",
       "    <tr style=\"text-align: right;\">\n",
       "      <th></th>\n",
       "      <th>Python</th>\n",
       "      <th>R</th>\n",
       "      <th>isPartial</th>\n",
       "    </tr>\n",
       "    <tr>\n",
       "      <th>date</th>\n",
       "      <th></th>\n",
       "      <th></th>\n",
       "      <th></th>\n",
       "    </tr>\n",
       "  </thead>\n",
       "  <tbody>\n",
       "    <tr>\n",
       "      <th>2020-07-28</th>\n",
       "      <td>66</td>\n",
       "      <td>94</td>\n",
       "      <td>False</td>\n",
       "    </tr>\n",
       "    <tr>\n",
       "      <th>2020-07-29</th>\n",
       "      <td>65</td>\n",
       "      <td>95</td>\n",
       "      <td>False</td>\n",
       "    </tr>\n",
       "    <tr>\n",
       "      <th>2020-07-30</th>\n",
       "      <td>63</td>\n",
       "      <td>92</td>\n",
       "      <td>False</td>\n",
       "    </tr>\n",
       "    <tr>\n",
       "      <th>2020-07-31</th>\n",
       "      <td>56</td>\n",
       "      <td>88</td>\n",
       "      <td>False</td>\n",
       "    </tr>\n",
       "    <tr>\n",
       "      <th>2020-08-01</th>\n",
       "      <td>34</td>\n",
       "      <td>85</td>\n",
       "      <td>False</td>\n",
       "    </tr>\n",
       "    <tr>\n",
       "      <th>2020-08-02</th>\n",
       "      <td>36</td>\n",
       "      <td>85</td>\n",
       "      <td>False</td>\n",
       "    </tr>\n",
       "    <tr>\n",
       "      <th>2020-08-03</th>\n",
       "      <td>57</td>\n",
       "      <td>91</td>\n",
       "      <td>False</td>\n",
       "    </tr>\n",
       "    <tr>\n",
       "      <th>2020-08-04</th>\n",
       "      <td>60</td>\n",
       "      <td>93</td>\n",
       "      <td>False</td>\n",
       "    </tr>\n",
       "    <tr>\n",
       "      <th>2020-08-05</th>\n",
       "      <td>60</td>\n",
       "      <td>89</td>\n",
       "      <td>False</td>\n",
       "    </tr>\n",
       "    <tr>\n",
       "      <th>2020-08-06</th>\n",
       "      <td>60</td>\n",
       "      <td>89</td>\n",
       "      <td>False</td>\n",
       "    </tr>\n",
       "    <tr>\n",
       "      <th>2020-08-07</th>\n",
       "      <td>55</td>\n",
       "      <td>90</td>\n",
       "      <td>False</td>\n",
       "    </tr>\n",
       "    <tr>\n",
       "      <th>2020-08-08</th>\n",
       "      <td>36</td>\n",
       "      <td>84</td>\n",
       "      <td>False</td>\n",
       "    </tr>\n",
       "    <tr>\n",
       "      <th>2020-08-09</th>\n",
       "      <td>36</td>\n",
       "      <td>82</td>\n",
       "      <td>False</td>\n",
       "    </tr>\n",
       "    <tr>\n",
       "      <th>2020-08-10</th>\n",
       "      <td>54</td>\n",
       "      <td>90</td>\n",
       "      <td>False</td>\n",
       "    </tr>\n",
       "    <tr>\n",
       "      <th>2020-08-11</th>\n",
       "      <td>58</td>\n",
       "      <td>91</td>\n",
       "      <td>False</td>\n",
       "    </tr>\n",
       "    <tr>\n",
       "      <th>2020-08-12</th>\n",
       "      <td>59</td>\n",
       "      <td>88</td>\n",
       "      <td>False</td>\n",
       "    </tr>\n",
       "    <tr>\n",
       "      <th>2020-08-13</th>\n",
       "      <td>58</td>\n",
       "      <td>92</td>\n",
       "      <td>False</td>\n",
       "    </tr>\n",
       "    <tr>\n",
       "      <th>2020-08-14</th>\n",
       "      <td>52</td>\n",
       "      <td>89</td>\n",
       "      <td>False</td>\n",
       "    </tr>\n",
       "    <tr>\n",
       "      <th>2020-08-15</th>\n",
       "      <td>35</td>\n",
       "      <td>83</td>\n",
       "      <td>False</td>\n",
       "    </tr>\n",
       "    <tr>\n",
       "      <th>2020-08-16</th>\n",
       "      <td>35</td>\n",
       "      <td>83</td>\n",
       "      <td>False</td>\n",
       "    </tr>\n",
       "    <tr>\n",
       "      <th>2020-08-17</th>\n",
       "      <td>50</td>\n",
       "      <td>92</td>\n",
       "      <td>False</td>\n",
       "    </tr>\n",
       "    <tr>\n",
       "      <th>2020-08-18</th>\n",
       "      <td>58</td>\n",
       "      <td>89</td>\n",
       "      <td>False</td>\n",
       "    </tr>\n",
       "    <tr>\n",
       "      <th>2020-08-19</th>\n",
       "      <td>56</td>\n",
       "      <td>90</td>\n",
       "      <td>False</td>\n",
       "    </tr>\n",
       "    <tr>\n",
       "      <th>2020-08-20</th>\n",
       "      <td>60</td>\n",
       "      <td>89</td>\n",
       "      <td>False</td>\n",
       "    </tr>\n",
       "    <tr>\n",
       "      <th>2020-08-21</th>\n",
       "      <td>53</td>\n",
       "      <td>89</td>\n",
       "      <td>False</td>\n",
       "    </tr>\n",
       "    <tr>\n",
       "      <th>2020-08-22</th>\n",
       "      <td>35</td>\n",
       "      <td>83</td>\n",
       "      <td>False</td>\n",
       "    </tr>\n",
       "    <tr>\n",
       "      <th>2020-08-23</th>\n",
       "      <td>35</td>\n",
       "      <td>85</td>\n",
       "      <td>False</td>\n",
       "    </tr>\n",
       "    <tr>\n",
       "      <th>2020-08-24</th>\n",
       "      <td>54</td>\n",
       "      <td>89</td>\n",
       "      <td>False</td>\n",
       "    </tr>\n",
       "    <tr>\n",
       "      <th>2020-08-25</th>\n",
       "      <td>58</td>\n",
       "      <td>94</td>\n",
       "      <td>False</td>\n",
       "    </tr>\n",
       "    <tr>\n",
       "      <th>2020-08-26</th>\n",
       "      <td>57</td>\n",
       "      <td>90</td>\n",
       "      <td>False</td>\n",
       "    </tr>\n",
       "    <tr>\n",
       "      <th>2020-08-27</th>\n",
       "      <td>58</td>\n",
       "      <td>100</td>\n",
       "      <td>False</td>\n",
       "    </tr>\n",
       "  </tbody>\n",
       "</table>\n",
       "</div>"
      ],
      "text/plain": [
       "            Python    R  isPartial\n",
       "date                              \n",
       "2020-07-28      66   94      False\n",
       "2020-07-29      65   95      False\n",
       "2020-07-30      63   92      False\n",
       "2020-07-31      56   88      False\n",
       "2020-08-01      34   85      False\n",
       "2020-08-02      36   85      False\n",
       "2020-08-03      57   91      False\n",
       "2020-08-04      60   93      False\n",
       "2020-08-05      60   89      False\n",
       "2020-08-06      60   89      False\n",
       "2020-08-07      55   90      False\n",
       "2020-08-08      36   84      False\n",
       "2020-08-09      36   82      False\n",
       "2020-08-10      54   90      False\n",
       "2020-08-11      58   91      False\n",
       "2020-08-12      59   88      False\n",
       "2020-08-13      58   92      False\n",
       "2020-08-14      52   89      False\n",
       "2020-08-15      35   83      False\n",
       "2020-08-16      35   83      False\n",
       "2020-08-17      50   92      False\n",
       "2020-08-18      58   89      False\n",
       "2020-08-19      56   90      False\n",
       "2020-08-20      60   89      False\n",
       "2020-08-21      53   89      False\n",
       "2020-08-22      35   83      False\n",
       "2020-08-23      35   85      False\n",
       "2020-08-24      54   89      False\n",
       "2020-08-25      58   94      False\n",
       "2020-08-26      57   90      False\n",
       "2020-08-27      58  100      False"
      ]
     },
     "execution_count": 12,
     "metadata": {},
     "output_type": "execute_result"
    }
   ],
   "source": [
    "pytrend.interest_over_time()\n"
   ]
  },
  {
   "cell_type": "code",
   "execution_count": 11,
   "metadata": {},
   "outputs": [
    {
     "data": {
      "text/html": [
       "<div>\n",
       "<style scoped>\n",
       "    .dataframe tbody tr th:only-of-type {\n",
       "        vertical-align: middle;\n",
       "    }\n",
       "\n",
       "    .dataframe tbody tr th {\n",
       "        vertical-align: top;\n",
       "    }\n",
       "\n",
       "    .dataframe thead th {\n",
       "        text-align: right;\n",
       "    }\n",
       "</style>\n",
       "<table border=\"1\" class=\"dataframe\">\n",
       "  <thead>\n",
       "    <tr style=\"text-align: right;\">\n",
       "      <th></th>\n",
       "      <th>Python</th>\n",
       "      <th>R</th>\n",
       "    </tr>\n",
       "    <tr>\n",
       "      <th>geoName</th>\n",
       "      <th></th>\n",
       "      <th></th>\n",
       "    </tr>\n",
       "  </thead>\n",
       "  <tbody>\n",
       "    <tr>\n",
       "      <th>Alabama</th>\n",
       "      <td>25</td>\n",
       "      <td>75</td>\n",
       "    </tr>\n",
       "    <tr>\n",
       "      <th>Alaska</th>\n",
       "      <td>22</td>\n",
       "      <td>78</td>\n",
       "    </tr>\n",
       "    <tr>\n",
       "      <th>Arizona</th>\n",
       "      <td>31</td>\n",
       "      <td>69</td>\n",
       "    </tr>\n",
       "    <tr>\n",
       "      <th>Arkansas</th>\n",
       "      <td>25</td>\n",
       "      <td>75</td>\n",
       "    </tr>\n",
       "    <tr>\n",
       "      <th>California</th>\n",
       "      <td>52</td>\n",
       "      <td>48</td>\n",
       "    </tr>\n",
       "    <tr>\n",
       "      <th>Colorado</th>\n",
       "      <td>39</td>\n",
       "      <td>61</td>\n",
       "    </tr>\n",
       "    <tr>\n",
       "      <th>Connecticut</th>\n",
       "      <td>36</td>\n",
       "      <td>64</td>\n",
       "    </tr>\n",
       "    <tr>\n",
       "      <th>Delaware</th>\n",
       "      <td>27</td>\n",
       "      <td>73</td>\n",
       "    </tr>\n",
       "    <tr>\n",
       "      <th>District of Columbia</th>\n",
       "      <td>37</td>\n",
       "      <td>63</td>\n",
       "    </tr>\n",
       "    <tr>\n",
       "      <th>Florida</th>\n",
       "      <td>27</td>\n",
       "      <td>73</td>\n",
       "    </tr>\n",
       "    <tr>\n",
       "      <th>Georgia</th>\n",
       "      <td>29</td>\n",
       "      <td>71</td>\n",
       "    </tr>\n",
       "    <tr>\n",
       "      <th>Hawaii</th>\n",
       "      <td>28</td>\n",
       "      <td>72</td>\n",
       "    </tr>\n",
       "    <tr>\n",
       "      <th>Idaho</th>\n",
       "      <td>28</td>\n",
       "      <td>72</td>\n",
       "    </tr>\n",
       "    <tr>\n",
       "      <th>Illinois</th>\n",
       "      <td>33</td>\n",
       "      <td>67</td>\n",
       "    </tr>\n",
       "    <tr>\n",
       "      <th>Indiana</th>\n",
       "      <td>28</td>\n",
       "      <td>72</td>\n",
       "    </tr>\n",
       "    <tr>\n",
       "      <th>Iowa</th>\n",
       "      <td>32</td>\n",
       "      <td>68</td>\n",
       "    </tr>\n",
       "    <tr>\n",
       "      <th>Kansas</th>\n",
       "      <td>27</td>\n",
       "      <td>73</td>\n",
       "    </tr>\n",
       "    <tr>\n",
       "      <th>Kentucky</th>\n",
       "      <td>25</td>\n",
       "      <td>75</td>\n",
       "    </tr>\n",
       "    <tr>\n",
       "      <th>Louisiana</th>\n",
       "      <td>20</td>\n",
       "      <td>80</td>\n",
       "    </tr>\n",
       "    <tr>\n",
       "      <th>Maine</th>\n",
       "      <td>30</td>\n",
       "      <td>70</td>\n",
       "    </tr>\n",
       "    <tr>\n",
       "      <th>Maryland</th>\n",
       "      <td>42</td>\n",
       "      <td>58</td>\n",
       "    </tr>\n",
       "    <tr>\n",
       "      <th>Massachusetts</th>\n",
       "      <td>47</td>\n",
       "      <td>53</td>\n",
       "    </tr>\n",
       "    <tr>\n",
       "      <th>Michigan</th>\n",
       "      <td>28</td>\n",
       "      <td>72</td>\n",
       "    </tr>\n",
       "    <tr>\n",
       "      <th>Minnesota</th>\n",
       "      <td>33</td>\n",
       "      <td>67</td>\n",
       "    </tr>\n",
       "    <tr>\n",
       "      <th>Mississippi</th>\n",
       "      <td>18</td>\n",
       "      <td>82</td>\n",
       "    </tr>\n",
       "    <tr>\n",
       "      <th>Missouri</th>\n",
       "      <td>28</td>\n",
       "      <td>72</td>\n",
       "    </tr>\n",
       "    <tr>\n",
       "      <th>Montana</th>\n",
       "      <td>24</td>\n",
       "      <td>76</td>\n",
       "    </tr>\n",
       "    <tr>\n",
       "      <th>Nebraska</th>\n",
       "      <td>22</td>\n",
       "      <td>78</td>\n",
       "    </tr>\n",
       "    <tr>\n",
       "      <th>Nevada</th>\n",
       "      <td>22</td>\n",
       "      <td>78</td>\n",
       "    </tr>\n",
       "    <tr>\n",
       "      <th>New Hampshire</th>\n",
       "      <td>39</td>\n",
       "      <td>61</td>\n",
       "    </tr>\n",
       "    <tr>\n",
       "      <th>New Jersey</th>\n",
       "      <td>41</td>\n",
       "      <td>59</td>\n",
       "    </tr>\n",
       "    <tr>\n",
       "      <th>New Mexico</th>\n",
       "      <td>29</td>\n",
       "      <td>71</td>\n",
       "    </tr>\n",
       "    <tr>\n",
       "      <th>New York</th>\n",
       "      <td>39</td>\n",
       "      <td>61</td>\n",
       "    </tr>\n",
       "    <tr>\n",
       "      <th>North Carolina</th>\n",
       "      <td>33</td>\n",
       "      <td>67</td>\n",
       "    </tr>\n",
       "    <tr>\n",
       "      <th>North Dakota</th>\n",
       "      <td>25</td>\n",
       "      <td>75</td>\n",
       "    </tr>\n",
       "    <tr>\n",
       "      <th>Ohio</th>\n",
       "      <td>28</td>\n",
       "      <td>72</td>\n",
       "    </tr>\n",
       "    <tr>\n",
       "      <th>Oklahoma</th>\n",
       "      <td>23</td>\n",
       "      <td>77</td>\n",
       "    </tr>\n",
       "    <tr>\n",
       "      <th>Oregon</th>\n",
       "      <td>46</td>\n",
       "      <td>54</td>\n",
       "    </tr>\n",
       "    <tr>\n",
       "      <th>Pennsylvania</th>\n",
       "      <td>31</td>\n",
       "      <td>69</td>\n",
       "    </tr>\n",
       "    <tr>\n",
       "      <th>Rhode Island</th>\n",
       "      <td>25</td>\n",
       "      <td>75</td>\n",
       "    </tr>\n",
       "    <tr>\n",
       "      <th>South Carolina</th>\n",
       "      <td>22</td>\n",
       "      <td>78</td>\n",
       "    </tr>\n",
       "    <tr>\n",
       "      <th>South Dakota</th>\n",
       "      <td>22</td>\n",
       "      <td>78</td>\n",
       "    </tr>\n",
       "    <tr>\n",
       "      <th>Tennessee</th>\n",
       "      <td>25</td>\n",
       "      <td>75</td>\n",
       "    </tr>\n",
       "    <tr>\n",
       "      <th>Texas</th>\n",
       "      <td>35</td>\n",
       "      <td>65</td>\n",
       "    </tr>\n",
       "    <tr>\n",
       "      <th>Utah</th>\n",
       "      <td>35</td>\n",
       "      <td>65</td>\n",
       "    </tr>\n",
       "    <tr>\n",
       "      <th>Vermont</th>\n",
       "      <td>32</td>\n",
       "      <td>68</td>\n",
       "    </tr>\n",
       "    <tr>\n",
       "      <th>Virginia</th>\n",
       "      <td>49</td>\n",
       "      <td>51</td>\n",
       "    </tr>\n",
       "    <tr>\n",
       "      <th>Washington</th>\n",
       "      <td>46</td>\n",
       "      <td>54</td>\n",
       "    </tr>\n",
       "    <tr>\n",
       "      <th>West Virginia</th>\n",
       "      <td>21</td>\n",
       "      <td>79</td>\n",
       "    </tr>\n",
       "    <tr>\n",
       "      <th>Wisconsin</th>\n",
       "      <td>28</td>\n",
       "      <td>72</td>\n",
       "    </tr>\n",
       "    <tr>\n",
       "      <th>Wyoming</th>\n",
       "      <td>24</td>\n",
       "      <td>76</td>\n",
       "    </tr>\n",
       "  </tbody>\n",
       "</table>\n",
       "</div>"
      ],
      "text/plain": [
       "                      Python   R\n",
       "geoName                         \n",
       "Alabama                   25  75\n",
       "Alaska                    22  78\n",
       "Arizona                   31  69\n",
       "Arkansas                  25  75\n",
       "California                52  48\n",
       "Colorado                  39  61\n",
       "Connecticut               36  64\n",
       "Delaware                  27  73\n",
       "District of Columbia      37  63\n",
       "Florida                   27  73\n",
       "Georgia                   29  71\n",
       "Hawaii                    28  72\n",
       "Idaho                     28  72\n",
       "Illinois                  33  67\n",
       "Indiana                   28  72\n",
       "Iowa                      32  68\n",
       "Kansas                    27  73\n",
       "Kentucky                  25  75\n",
       "Louisiana                 20  80\n",
       "Maine                     30  70\n",
       "Maryland                  42  58\n",
       "Massachusetts             47  53\n",
       "Michigan                  28  72\n",
       "Minnesota                 33  67\n",
       "Mississippi               18  82\n",
       "Missouri                  28  72\n",
       "Montana                   24  76\n",
       "Nebraska                  22  78\n",
       "Nevada                    22  78\n",
       "New Hampshire             39  61\n",
       "New Jersey                41  59\n",
       "New Mexico                29  71\n",
       "New York                  39  61\n",
       "North Carolina            33  67\n",
       "North Dakota              25  75\n",
       "Ohio                      28  72\n",
       "Oklahoma                  23  77\n",
       "Oregon                    46  54\n",
       "Pennsylvania              31  69\n",
       "Rhode Island              25  75\n",
       "South Carolina            22  78\n",
       "South Dakota              22  78\n",
       "Tennessee                 25  75\n",
       "Texas                     35  65\n",
       "Utah                      35  65\n",
       "Vermont                   32  68\n",
       "Virginia                  49  51\n",
       "Washington                46  54\n",
       "West Virginia             21  79\n",
       "Wisconsin                 28  72\n",
       "Wyoming                   24  76"
      ]
     },
     "execution_count": 11,
     "metadata": {},
     "output_type": "execute_result"
    }
   ],
   "source": [
    "pytrend.interest_by_region(resolution='COUNTRY', inc_low_vol=True, inc_geo_code=False)"
   ]
  },
  {
   "cell_type": "code",
   "execution_count": null,
   "metadata": {},
   "outputs": [],
   "source": []
  }
 ],
 "metadata": {
  "kernelspec": {
   "display_name": "Python 3",
   "language": "python",
   "name": "python3"
  },
  "language_info": {
   "codemirror_mode": {
    "name": "ipython",
    "version": 3
   },
   "file_extension": ".py",
   "mimetype": "text/x-python",
   "name": "python",
   "nbconvert_exporter": "python",
   "pygments_lexer": "ipython3",
   "version": "3.7.1"
  }
 },
 "nbformat": 4,
 "nbformat_minor": 4
}

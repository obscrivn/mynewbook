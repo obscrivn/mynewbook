{
 "cells": [
  {
   "cell_type": "markdown",
   "metadata": {
    "id": "CtVIabzzb64m"
   },
   "source": [
    "## sklearn Practice\n",
    "Adapted from https://colab.research.google.com/github/RPI-DATA/course-intro-ml-app/blob/master/content/notebooks/16-intro-nlp/03-scikit-learn-text.ipynb"
   ]
  },
  {
   "cell_type": "code",
   "execution_count": 1,
   "metadata": {
    "id": "tu1bzf2mbwrv"
   },
   "outputs": [],
   "source": [
    "%matplotlib inline\n",
    "import matplotlib.pyplot as plt\n",
    "import numpy as np"
   ]
  },
  {
   "cell_type": "markdown",
   "metadata": {
    "id": "2NPnavrXbwr9"
   },
   "source": [
    "# Methods - Text Feature Extraction with Bag-of-Words Using Scikit Learn\n"
   ]
  },
  {
   "cell_type": "code",
   "execution_count": 12,
   "metadata": {
    "id": "8LgCSQvObwsK"
   },
   "outputs": [],
   "source": [
    "corpus = [\"Mr. Green killed Colonel Mustard in the study with the candlestick. \\\n",
    "Mr. Green is not a very nice fellow.\",\n",
    "     \"Professor Plum has a green plant in his study.\",\n",
    "    \"Miss Scarlett watered Professor Plum's green plant while he was away \\\n",
    "from his office last week.\"]\n"
   ]
  },
  {
   "cell_type": "code",
   "execution_count": 13,
   "metadata": {
    "colab": {
     "base_uri": "https://localhost:8080/"
    },
    "id": "4smNnQ4lbwsS",
    "outputId": "195002a6-1975-4bfd-855a-bf8dcb2dd158"
   },
   "outputs": [
    {
     "data": {
      "text/plain": [
       "3"
      ]
     },
     "execution_count": 13,
     "metadata": {},
     "output_type": "execute_result"
    }
   ],
   "source": [
    "len(corpus)"
   ]
  },
  {
   "cell_type": "code",
   "execution_count": 14,
   "metadata": {
    "id": "tv6Puu2Rbwsh"
   },
   "outputs": [],
   "source": [
    "from sklearn.feature_extraction.text import CountVectorizer\n",
    "vectorizer = CountVectorizer()\n",
    "X = vectorizer.fit(corpus)"
   ]
  },
  {
   "cell_type": "code",
   "execution_count": 15,
   "metadata": {
    "colab": {
     "base_uri": "https://localhost:8080/"
    },
    "id": "DqiZ3TMqbwtY",
    "outputId": "e3fbee90-16cf-4362-e131-a288dd588125"
   },
   "outputs": [
    {
     "data": {
      "text/plain": [
       "{'away': 0,\n",
       " 'candlestick': 1,\n",
       " 'colonel': 2,\n",
       " 'fellow': 3,\n",
       " 'from': 4,\n",
       " 'green': 5,\n",
       " 'has': 6,\n",
       " 'he': 7,\n",
       " 'his': 8,\n",
       " 'in': 9,\n",
       " 'is': 10,\n",
       " 'killed': 11,\n",
       " 'last': 12,\n",
       " 'miss': 13,\n",
       " 'mr': 14,\n",
       " 'mustard': 15,\n",
       " 'nice': 16,\n",
       " 'not': 17,\n",
       " 'office': 18,\n",
       " 'plant': 19,\n",
       " 'plum': 20,\n",
       " 'professor': 21,\n",
       " 'scarlett': 22,\n",
       " 'study': 23,\n",
       " 'the': 24,\n",
       " 'very': 25,\n",
       " 'was': 26,\n",
       " 'watered': 27,\n",
       " 'week': 28,\n",
       " 'while': 29,\n",
       " 'with': 30}"
      ]
     },
     "execution_count": 15,
     "metadata": {},
     "output_type": "execute_result"
    }
   ],
   "source": [
    "vectorizer.vocabulary_"
   ]
  },
  {
   "cell_type": "code",
   "execution_count": 17,
   "metadata": {
    "id": "TkLmhm0-bwte"
   },
   "outputs": [],
   "source": [
    "X_bag_of_words = vectorizer.transform(corpus)"
   ]
  },
  {
   "cell_type": "code",
   "execution_count": 18,
   "metadata": {
    "colab": {
     "base_uri": "https://localhost:8080/"
    },
    "id": "PK18qqMabwtl",
    "outputId": "30b5783e-a4eb-4b45-9754-c28bf56ddf1e"
   },
   "outputs": [
    {
     "data": {
      "text/plain": [
       "(3, 31)"
      ]
     },
     "execution_count": 18,
     "metadata": {},
     "output_type": "execute_result"
    }
   ],
   "source": [
    "X_bag_of_words.shape"
   ]
  },
  {
   "cell_type": "code",
   "execution_count": 19,
   "metadata": {
    "colab": {
     "base_uri": "https://localhost:8080/"
    },
    "id": "huitq6-nbwtp",
    "outputId": "14517474-dfd0-4d5e-8305-43364ce24047"
   },
   "outputs": [
    {
     "data": {
      "text/plain": [
       "<3x31 sparse matrix of type '<class 'numpy.int64'>'\n",
       "\twith 39 stored elements in Compressed Sparse Row format>"
      ]
     },
     "execution_count": 19,
     "metadata": {},
     "output_type": "execute_result"
    }
   ],
   "source": [
    "X_bag_of_words"
   ]
  },
  {
   "cell_type": "code",
   "execution_count": 20,
   "metadata": {
    "colab": {
     "base_uri": "https://localhost:8080/"
    },
    "id": "bGbbbnT4bwtt",
    "outputId": "426df986-6efa-4fd0-b673-b8cd2c64dd8e"
   },
   "outputs": [
    {
     "data": {
      "text/plain": [
       "array([[0, 1, 1, 1, 0, 2, 0, 0, 0, 1, 1, 1, 0, 0, 2, 1, 1, 1, 0, 0, 0, 0,\n",
       "        0, 1, 2, 1, 0, 0, 0, 0, 1],\n",
       "       [0, 0, 0, 0, 0, 1, 1, 0, 1, 1, 0, 0, 0, 0, 0, 0, 0, 0, 0, 1, 1, 1,\n",
       "        0, 1, 0, 0, 0, 0, 0, 0, 0],\n",
       "       [1, 0, 0, 0, 1, 1, 0, 1, 1, 0, 0, 0, 1, 1, 0, 0, 0, 0, 1, 1, 1, 1,\n",
       "        1, 0, 0, 0, 1, 1, 1, 1, 0]])"
      ]
     },
     "execution_count": 20,
     "metadata": {},
     "output_type": "execute_result"
    }
   ],
   "source": [
    "X_bag_of_words.toarray()"
   ]
  },
  {
   "cell_type": "code",
   "execution_count": 21,
   "metadata": {
    "colab": {
     "base_uri": "https://localhost:8080/"
    },
    "id": "9fMIWEOlbwty",
    "outputId": "b3efdb7b-94e8-482f-91c4-f9cfa0d52674"
   },
   "outputs": [
    {
     "name": "stderr",
     "output_type": "stream",
     "text": [
      "/usr/local/lib/python3.7/dist-packages/sklearn/utils/deprecation.py:87: FutureWarning: Function get_feature_names is deprecated; get_feature_names is deprecated in 1.0 and will be removed in 1.2. Please use get_feature_names_out instead.\n",
      "  warnings.warn(msg, category=FutureWarning)\n"
     ]
    },
    {
     "data": {
      "text/plain": [
       "['away',\n",
       " 'candlestick',\n",
       " 'colonel',\n",
       " 'fellow',\n",
       " 'from',\n",
       " 'green',\n",
       " 'has',\n",
       " 'he',\n",
       " 'his',\n",
       " 'in',\n",
       " 'is',\n",
       " 'killed',\n",
       " 'last',\n",
       " 'miss',\n",
       " 'mr',\n",
       " 'mustard',\n",
       " 'nice',\n",
       " 'not',\n",
       " 'office',\n",
       " 'plant',\n",
       " 'plum',\n",
       " 'professor',\n",
       " 'scarlett',\n",
       " 'study',\n",
       " 'the',\n",
       " 'very',\n",
       " 'was',\n",
       " 'watered',\n",
       " 'week',\n",
       " 'while',\n",
       " 'with']"
      ]
     },
     "execution_count": 21,
     "metadata": {},
     "output_type": "execute_result"
    }
   ],
   "source": [
    "vectorizer.get_feature_names()"
   ]
  },
  {
   "cell_type": "code",
   "execution_count": 22,
   "metadata": {
    "colab": {
     "base_uri": "https://localhost:8080/"
    },
    "id": "iahQFIJ3bwt6",
    "outputId": "dac3af36-b012-43b4-aa78-2d6ba0c1672a"
   },
   "outputs": [
    {
     "data": {
      "text/plain": [
       "[array(['candlestick', 'colonel', 'fellow', 'green', 'in', 'is', 'killed',\n",
       "        'mr', 'mustard', 'nice', 'not', 'study', 'the', 'very', 'with'],\n",
       "       dtype='<U11'),\n",
       " array(['green', 'has', 'his', 'in', 'plant', 'plum', 'professor', 'study'],\n",
       "       dtype='<U11'),\n",
       " array(['away', 'from', 'green', 'he', 'his', 'last', 'miss', 'office',\n",
       "        'plant', 'plum', 'professor', 'scarlett', 'was', 'watered', 'week',\n",
       "        'while'], dtype='<U11')]"
      ]
     },
     "execution_count": 22,
     "metadata": {},
     "output_type": "execute_result"
    }
   ],
   "source": [
    "vectorizer.inverse_transform(X_bag_of_words)"
   ]
  },
  {
   "cell_type": "markdown",
   "metadata": {
    "id": "ZhcVPR0fbwt9"
   },
   "source": [
    "# tf-idf Encoding\n",
    "\n",
    "\n",
    "The tf-idf encoding rescales words that are common to have less weight:"
   ]
  },
  {
   "cell_type": "code",
   "execution_count": 24,
   "metadata": {
    "id": "HEBFAHKHbwt9"
   },
   "outputs": [],
   "source": [
    "from sklearn.feature_extraction.text import TfidfVectorizer\n",
    "tfidf_vectorizer = TfidfVectorizer()\n",
    "X = tfidf_vectorizer.fit(corpus)"
   ]
  },
  {
   "cell_type": "code",
   "execution_count": 26,
   "metadata": {
    "colab": {
     "base_uri": "https://localhost:8080/"
    },
    "id": "qbxcbXFvbwuB",
    "outputId": "9a9acdd5-2f2a-4b84-e800-a8822f6ce715"
   },
   "outputs": [
    {
     "name": "stdout",
     "output_type": "stream",
     "text": [
      "[[0.   0.22 0.22 0.22 0.   0.26 0.   0.   0.   0.17 0.22 0.22 0.   0.\n",
      "  0.44 0.22 0.22 0.22 0.   0.   0.   0.   0.   0.17 0.44 0.22 0.   0.\n",
      "  0.   0.   0.22]\n",
      " [0.   0.   0.   0.   0.   0.27 0.46 0.   0.35 0.35 0.   0.   0.   0.\n",
      "  0.   0.   0.   0.   0.   0.35 0.35 0.35 0.   0.35 0.   0.   0.   0.\n",
      "  0.   0.   0.  ]\n",
      " [0.27 0.   0.   0.   0.27 0.16 0.   0.27 0.21 0.   0.   0.   0.27 0.27\n",
      "  0.   0.   0.   0.   0.27 0.21 0.21 0.21 0.27 0.   0.   0.   0.27 0.27\n",
      "  0.27 0.27 0.  ]]\n"
     ]
    }
   ],
   "source": [
    "import numpy as np\n",
    "np.set_printoptions(precision=2)\n",
    "\n",
    "print(tfidf_vectorizer.transform(corpus).toarray())"
   ]
  },
  {
   "cell_type": "code",
   "execution_count": 27,
   "metadata": {
    "colab": {
     "base_uri": "https://localhost:8080/"
    },
    "id": "Aa-zJuB6bwuF",
    "outputId": "fa90223e-8910-4f39-92cd-e43bd4135b75"
   },
   "outputs": [
    {
     "name": "stderr",
     "output_type": "stream",
     "text": [
      "/usr/local/lib/python3.7/dist-packages/sklearn/utils/deprecation.py:87: FutureWarning: Function get_feature_names is deprecated; get_feature_names is deprecated in 1.0 and will be removed in 1.2. Please use get_feature_names_out instead.\n",
      "  warnings.warn(msg, category=FutureWarning)\n"
     ]
    },
    {
     "data": {
      "text/plain": [
       "['away',\n",
       " 'candlestick',\n",
       " 'colonel',\n",
       " 'fellow',\n",
       " 'from',\n",
       " 'green',\n",
       " 'has',\n",
       " 'he',\n",
       " 'his',\n",
       " 'in',\n",
       " 'is',\n",
       " 'killed',\n",
       " 'last',\n",
       " 'miss',\n",
       " 'mr',\n",
       " 'mustard',\n",
       " 'nice',\n",
       " 'not',\n",
       " 'office',\n",
       " 'plant',\n",
       " 'plum',\n",
       " 'professor',\n",
       " 'scarlett',\n",
       " 'study',\n",
       " 'the',\n",
       " 'very',\n",
       " 'was',\n",
       " 'watered',\n",
       " 'week',\n",
       " 'while',\n",
       " 'with']"
      ]
     },
     "execution_count": 27,
     "metadata": {},
     "output_type": "execute_result"
    }
   ],
   "source": [
    "tfidf_vectorizer.get_feature_names()"
   ]
  },
  {
   "cell_type": "markdown",
   "metadata": {
    "id": "saj9osxVbwuI"
   },
   "source": [
    "If you are interested in the mathematical details and equations, see this [external Notebook](http://nbviewer.jupyter.org/github/rasbt/pattern_classification/blob/master/machine_learning/scikit-learn/tfidf_scikit-learn.ipynb) that walks you through the computation."
   ]
  },
  {
   "cell_type": "markdown",
   "metadata": {
    "id": "XRrBVZ8CbwuK"
   },
   "source": [
    "# Bigrams and N-Grams\n",
    "\n"
   ]
  },
  {
   "cell_type": "code",
   "execution_count": 28,
   "metadata": {
    "colab": {
     "base_uri": "https://localhost:8080/"
    },
    "id": "BOMO-N4QbwuL",
    "outputId": "3cf70dbe-3e8a-4180-e7d8-4b9cf54ffd59"
   },
   "outputs": [
    {
     "data": {
      "text/plain": [
       "CountVectorizer(ngram_range=(2, 2))"
      ]
     },
     "execution_count": 28,
     "metadata": {},
     "output_type": "execute_result"
    }
   ],
   "source": [
    "# look at sequences of tokens of minimum length 2 and maximum length 2\n",
    "bigram_vectorizer = CountVectorizer(ngram_range=(2, 2))\n",
    "bigram_vectorizer.fit(corpus)"
   ]
  },
  {
   "cell_type": "code",
   "execution_count": 29,
   "metadata": {
    "colab": {
     "base_uri": "https://localhost:8080/"
    },
    "id": "vDXcAcgzbwuO",
    "outputId": "12a4f650-d42d-45e8-f1ed-b82abc2109c5"
   },
   "outputs": [
    {
     "name": "stderr",
     "output_type": "stream",
     "text": [
      "/usr/local/lib/python3.7/dist-packages/sklearn/utils/deprecation.py:87: FutureWarning: Function get_feature_names is deprecated; get_feature_names is deprecated in 1.0 and will be removed in 1.2. Please use get_feature_names_out instead.\n",
      "  warnings.warn(msg, category=FutureWarning)\n"
     ]
    },
    {
     "data": {
      "text/plain": [
       "['away from',\n",
       " 'candlestick mr',\n",
       " 'colonel mustard',\n",
       " 'from his',\n",
       " 'green is',\n",
       " 'green killed',\n",
       " 'green plant',\n",
       " 'has green',\n",
       " 'he was',\n",
       " 'his office',\n",
       " 'his study',\n",
       " 'in his',\n",
       " 'in the',\n",
       " 'is not',\n",
       " 'killed colonel',\n",
       " 'last week',\n",
       " 'miss scarlett',\n",
       " 'mr green',\n",
       " 'mustard in',\n",
       " 'nice fellow',\n",
       " 'not very',\n",
       " 'office last',\n",
       " 'plant in',\n",
       " 'plant while',\n",
       " 'plum green',\n",
       " 'plum has',\n",
       " 'professor plum',\n",
       " 'scarlett watered',\n",
       " 'study with',\n",
       " 'the candlestick',\n",
       " 'the study',\n",
       " 'very nice',\n",
       " 'was away',\n",
       " 'watered professor',\n",
       " 'while he',\n",
       " 'with the']"
      ]
     },
     "execution_count": 29,
     "metadata": {},
     "output_type": "execute_result"
    }
   ],
   "source": [
    "bigram_vectorizer.get_feature_names()"
   ]
  },
  {
   "cell_type": "code",
   "execution_count": 30,
   "metadata": {
    "colab": {
     "base_uri": "https://localhost:8080/"
    },
    "id": "lt-yQvunbwuS",
    "outputId": "9ad60b1e-dca2-4f40-f2df-5b029bf1d159"
   },
   "outputs": [
    {
     "data": {
      "text/plain": [
       "array([[0, 1, 1, 0, 1, 1, 0, 0, 0, 0, 0, 0, 1, 1, 1, 0, 0, 2, 1, 1, 1, 0,\n",
       "        0, 0, 0, 0, 0, 0, 1, 1, 1, 1, 0, 0, 0, 1],\n",
       "       [0, 0, 0, 0, 0, 0, 1, 1, 0, 0, 1, 1, 0, 0, 0, 0, 0, 0, 0, 0, 0, 0,\n",
       "        1, 0, 0, 1, 1, 0, 0, 0, 0, 0, 0, 0, 0, 0],\n",
       "       [1, 0, 0, 1, 0, 0, 1, 0, 1, 1, 0, 0, 0, 0, 0, 1, 1, 0, 0, 0, 0, 1,\n",
       "        0, 1, 1, 0, 1, 1, 0, 0, 0, 0, 1, 1, 1, 0]])"
      ]
     },
     "execution_count": 30,
     "metadata": {},
     "output_type": "execute_result"
    }
   ],
   "source": [
    "bigram_vectorizer.transform(corpus).toarray()"
   ]
  },
  {
   "cell_type": "markdown",
   "metadata": {
    "id": "TNOdG_OebwuV"
   },
   "source": [
    "Often we want to include unigrams (single tokens) AND bigrams, wich we can do by passing the following tuple as an argument to the `ngram_range` parameter of the `CountVectorizer` function:"
   ]
  },
  {
   "cell_type": "code",
   "execution_count": 31,
   "metadata": {
    "colab": {
     "base_uri": "https://localhost:8080/"
    },
    "id": "OkBG4MThbwuX",
    "outputId": "4e37c835-d08c-48df-e4cb-6338783a961d"
   },
   "outputs": [
    {
     "data": {
      "text/plain": [
       "CountVectorizer(ngram_range=(1, 2))"
      ]
     },
     "execution_count": 31,
     "metadata": {},
     "output_type": "execute_result"
    }
   ],
   "source": [
    "gram_vectorizer = CountVectorizer(ngram_range=(1, 2))\n",
    "gram_vectorizer.fit(corpus)"
   ]
  },
  {
   "cell_type": "code",
   "execution_count": 32,
   "metadata": {
    "colab": {
     "base_uri": "https://localhost:8080/"
    },
    "id": "L3HpFZV2bwvI",
    "outputId": "b4ca805a-ceab-45e6-8c30-2ec745e0c06d"
   },
   "outputs": [
    {
     "name": "stderr",
     "output_type": "stream",
     "text": [
      "/usr/local/lib/python3.7/dist-packages/sklearn/utils/deprecation.py:87: FutureWarning: Function get_feature_names is deprecated; get_feature_names is deprecated in 1.0 and will be removed in 1.2. Please use get_feature_names_out instead.\n",
      "  warnings.warn(msg, category=FutureWarning)\n"
     ]
    },
    {
     "data": {
      "text/plain": [
       "['away',\n",
       " 'away from',\n",
       " 'candlestick',\n",
       " 'candlestick mr',\n",
       " 'colonel',\n",
       " 'colonel mustard',\n",
       " 'fellow',\n",
       " 'from',\n",
       " 'from his',\n",
       " 'green',\n",
       " 'green is',\n",
       " 'green killed',\n",
       " 'green plant',\n",
       " 'has',\n",
       " 'has green',\n",
       " 'he',\n",
       " 'he was',\n",
       " 'his',\n",
       " 'his office',\n",
       " 'his study',\n",
       " 'in',\n",
       " 'in his',\n",
       " 'in the',\n",
       " 'is',\n",
       " 'is not',\n",
       " 'killed',\n",
       " 'killed colonel',\n",
       " 'last',\n",
       " 'last week',\n",
       " 'miss',\n",
       " 'miss scarlett',\n",
       " 'mr',\n",
       " 'mr green',\n",
       " 'mustard',\n",
       " 'mustard in',\n",
       " 'nice',\n",
       " 'nice fellow',\n",
       " 'not',\n",
       " 'not very',\n",
       " 'office',\n",
       " 'office last',\n",
       " 'plant',\n",
       " 'plant in',\n",
       " 'plant while',\n",
       " 'plum',\n",
       " 'plum green',\n",
       " 'plum has',\n",
       " 'professor',\n",
       " 'professor plum',\n",
       " 'scarlett',\n",
       " 'scarlett watered',\n",
       " 'study',\n",
       " 'study with',\n",
       " 'the',\n",
       " 'the candlestick',\n",
       " 'the study',\n",
       " 'very',\n",
       " 'very nice',\n",
       " 'was',\n",
       " 'was away',\n",
       " 'watered',\n",
       " 'watered professor',\n",
       " 'week',\n",
       " 'while',\n",
       " 'while he',\n",
       " 'with',\n",
       " 'with the']"
      ]
     },
     "execution_count": 32,
     "metadata": {},
     "output_type": "execute_result"
    }
   ],
   "source": [
    "gram_vectorizer.get_feature_names()"
   ]
  },
  {
   "cell_type": "code",
   "execution_count": null,
   "metadata": {
    "id": "_HJRkBksbwvJ"
   },
   "outputs": [],
   "source": [
    "gram_vectorizer.transform(X).toarray()"
   ]
  },
  {
   "cell_type": "markdown",
   "metadata": {
    "id": "NR2rkal8bwvL"
   },
   "source": [
    "Character n-grams\n",
    "=================\n",
    "\n",
    "Sometimes it is also helpful not only to look at words, but to consider single characters instead.   \n",
    "That is particularly useful if we have very noisy data and want to identify the language, or if we want to predict something about a single word.\n",
    "We can simply look at characters instead of words by setting ``analyzer=\"char\"``.\n",
    "Looking at single characters is usually not very informative, but looking at longer n-grams of characters could be:"
   ]
  },
  {
   "cell_type": "code",
   "execution_count": 33,
   "metadata": {
    "colab": {
     "base_uri": "https://localhost:8080/"
    },
    "id": "hYUVs99PbwvR",
    "outputId": "5807ab1a-b5bc-40ee-c690-e5d8253b1287"
   },
   "outputs": [
    {
     "data": {
      "text/plain": [
       "['Mr. Green killed Colonel Mustard in the study with the candlestick. Mr. Green is not a very nice fellow.',\n",
       " 'Professor Plum has a green plant in his study.',\n",
       " \"Miss Scarlett watered Professor Plum's green plant while he was away from his office last week.\"]"
      ]
     },
     "execution_count": 33,
     "metadata": {},
     "output_type": "execute_result"
    }
   ],
   "source": [
    "corpus"
   ]
  },
  {
   "cell_type": "code",
   "execution_count": 34,
   "metadata": {
    "colab": {
     "base_uri": "https://localhost:8080/"
    },
    "id": "eyLIzQgibwvT",
    "outputId": "676795ef-95c8-4d38-f29e-0a2ec1764def"
   },
   "outputs": [
    {
     "data": {
      "text/plain": [
       "CountVectorizer(analyzer='char', ngram_range=(2, 2))"
      ]
     },
     "execution_count": 34,
     "metadata": {},
     "output_type": "execute_result"
    }
   ],
   "source": [
    "char_vectorizer = CountVectorizer(ngram_range=(2, 2), analyzer=\"char\")\n",
    "char_vectorizer.fit(corpus)"
   ]
  },
  {
   "cell_type": "code",
   "execution_count": 35,
   "metadata": {
    "colab": {
     "base_uri": "https://localhost:8080/"
    },
    "id": "hJpM0J0MbwvV",
    "outputId": "28f8023f-1003-4daf-ff91-9aff52f80250",
    "scrolled": true
   },
   "outputs": [
    {
     "name": "stdout",
     "output_type": "stream",
     "text": [
      "[' a', ' c', ' f', ' g', ' h', ' i', ' k', ' l', ' m', ' n', ' o', ' p', ' s', ' t', ' v', ' w', \"'s\", '. ', 'a ', 'an', 'ar', 'as', 'at', 'aw', 'ay', 'ca', 'ce', 'ck', 'co', 'd ', 'dl', 'dy', 'e ', 'ed', 'ee', 'ek', 'el', 'en', 'er', 'es', 'et', 'fe', 'ff', 'fi', 'fr', 'gr', 'h ', 'ha', 'he', 'hi', 'ic', 'il', 'in', 'is', 'it', 'k.', 'ki', 'l ', 'la', 'le', 'll', 'lo', 'lu', 'm ', \"m'\", 'mi', 'mr', 'mu', 'n ', 'nd', 'ne', 'ni', 'no', 'nt', 'of', 'ol', 'om', 'on', 'or', 'ot', 'ow', 'pl', 'pr', 'r ', 'r.', 'rd', 're', 'rl', 'ro', 'ry', 's ', 'sc', 'so', 'ss', 'st', 't ', 'ta', 'te', 'th', 'ti', 'tt', 'tu', 'ud', 'um', 'us', 've', 'w.', 'wa', 'we', 'wh', 'wi', 'y ', 'y.']\n"
     ]
    },
    {
     "name": "stderr",
     "output_type": "stream",
     "text": [
      "/usr/local/lib/python3.7/dist-packages/sklearn/utils/deprecation.py:87: FutureWarning: Function get_feature_names is deprecated; get_feature_names is deprecated in 1.0 and will be removed in 1.2. Please use get_feature_names_out instead.\n",
      "  warnings.warn(msg, category=FutureWarning)\n"
     ]
    }
   ],
   "source": [
    "print(char_vectorizer.get_feature_names())"
   ]
  },
  {
   "cell_type": "code",
   "execution_count": null,
   "metadata": {
    "id": "4WRmIK0AbwvX"
   },
   "outputs": [],
   "source": []
  },
  {
   "cell_type": "code",
   "execution_count": null,
   "metadata": {
    "id": "jnRnKkbobwvY"
   },
   "outputs": [],
   "source": []
  }
 ],
 "metadata": {
  "colab": {
   "name": "scikit-learn-text.ipynb",
   "provenance": []
  },
  "kernelspec": {
   "display_name": "Python 3",
   "language": "python",
   "name": "python3"
  },
  "language_info": {
   "codemirror_mode": {
    "name": "ipython",
    "version": 3
   },
   "file_extension": ".py",
   "mimetype": "text/x-python",
   "name": "python",
   "nbconvert_exporter": "python",
   "pygments_lexer": "ipython3",
   "version": "3.7.1"
  }
 },
 "nbformat": 4,
 "nbformat_minor": 4
}

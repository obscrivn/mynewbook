{
 "cells": [
  {
   "cell_type": "markdown",
   "metadata": {},
   "source": [
    "# Python for Natural Language"
   ]
  },
  {
   "cell_type": "markdown",
   "metadata": {},
   "source": [
    "**NLP and Unstuctured data** - Python handles text (unstructured data) using several libraries (NLTK, Gensim, spaCy). We can perform text processing, information retrieval, and text analytics as well as we can apply machine learning algorithms."
   ]
  },
  {
   "cell_type": "markdown",
   "metadata": {},
   "source": [
    "Check your python version:"
   ]
  },
  {
   "cell_type": "code",
   "execution_count": 2,
   "metadata": {},
   "outputs": [
    {
     "name": "stdout",
     "output_type": "stream",
     "text": [
      "Python 3.7.1\n"
     ]
    }
   ],
   "source": [
    "!python --version # your version should be 3+"
   ]
  },
  {
   "cell_type": "markdown",
   "metadata": {},
   "source": [
    "## Installing libraries"
   ]
  },
  {
   "cell_type": "markdown",
   "metadata": {},
   "source": [
    "``pip`` and ``conda`` commands are used to install packages via terminal. In jupyter notebook enviroment you use ``!pip`` or ``!pip3 install __``"
   ]
  },
  {
   "cell_type": "markdown",
   "metadata": {},
   "source": [
    "Check if you have some libraries installed: pandas, numpy, matplotlib, sklearn, scipy, spacy. If not installed, use the following command ``!pip3 install pandas`` (and install remaining packages)."
   ]
  },
  {
   "cell_type": "code",
   "execution_count": 4,
   "metadata": {},
   "outputs": [
    {
     "name": "stdout",
     "output_type": "stream",
     "text": [
      "pandas==1.3.3\n",
      "pandas-profiling==3.0.0\n"
     ]
    }
   ],
   "source": [
    "!pip3 freeze | grep pandas"
   ]
  },
  {
   "cell_type": "markdown",
   "metadata": {},
   "source": [
    "## String Literals"
   ]
  },
  {
   "cell_type": "markdown",
   "metadata": {},
   "source": [
    "> The purpose of a string is to allow any sequence of printable characters and the space to be transmitted. A string is a sequence of ASCII characters, written using C's notation for strings. Thus, a string is surrounded by double-quote characters and excludes control characters.\n",
    "[Backus-Naur Form (BNF) notation](https://www.w3.org/Notation.html)"
   ]
  },
  {
   "cell_type": "markdown",
   "metadata": {},
   "source": [
    "- **Short strings**: enclosed with single quotes (') or double quotes (\"). For example,\n",
    "<span style=\"color:red;\">'Hello'</span> and \"Hello\".\n",
    "\n",
    "- **Long strings**: These strings are usually enclosed with three single\n",
    "(''') or double quotes (\"\"\") around the characters. Some examples\n",
    "are <span style=\"color:red;\">\"\"\"Hello, I'm a long string\"\"\"</span> or '''Hello I\\'m a long\n",
    "string '''. Note the (\\') indicates an escape sequence which we\n",
    "shall talk about soon."
   ]
  },
  {
   "cell_type": "code",
   "execution_count": 5,
   "metadata": {},
   "outputs": [],
   "source": [
    "longStr = \"\"\"\n",
    "Hello,\n",
    "I'm a long\n",
    "string\n",
    "\"\"\""
   ]
  },
  {
   "cell_type": "code",
   "execution_count": 6,
   "metadata": {},
   "outputs": [
    {
     "name": "stdout",
     "output_type": "stream",
     "text": [
      "\n",
      "Hello,\n",
      "I'm a long\n",
      "string\n",
      "\n"
     ]
    }
   ],
   "source": [
    "print(longStr)"
   ]
  },
  {
   "cell_type": "markdown",
   "metadata": {},
   "source": [
    "- **Escape sequences**: the rule for escape sequences\n",
    "starts with a backslash (\\\\) followed by any ASCII character. Popular escape sequences\n",
    "include \n",
    "  - (\\n): a newline character \n",
    "  - (\\t): a tab\n",
    "  - (\\s): a space\n",
    "  - (\\r): carrage return\n",
    "  \n",
    "- **Raw strings**: created specifically for regular expressions. These strings can be created using the r'...' notation and keep the string in its raw or native form (verbatim). An example is r'Hello'."
   ]
  },
  {
   "cell_type": "code",
   "execution_count": 14,
   "metadata": {},
   "outputs": [
    {
     "data": {
      "text/plain": [
       "'I\\\\night'"
      ]
     },
     "execution_count": 14,
     "metadata": {},
     "output_type": "execute_result"
    }
   ],
   "source": [
    "r'I\\night'"
   ]
  },
  {
   "cell_type": "markdown",
   "metadata": {},
   "source": [
    "- **Unicode**: These strings support Unicode characters in text and\n",
    "they are usually non-ASCII character sequences. These strings are\n",
    "denoted with the u'...' notation and represent non-ASCII characters. \n",
    "Other examples include hex-digits: 'H\\xe8llo' and  'H\\u00e8llo'"
   ]
  },
  {
   "cell_type": "code",
   "execution_count": 20,
   "metadata": {},
   "outputs": [
    {
     "data": {
      "text/plain": [
       "'Hèllo'"
      ]
     },
     "execution_count": 20,
     "metadata": {},
     "output_type": "execute_result"
    }
   ],
   "source": [
    "'H\\u00e8llo'"
   ]
  },
  {
   "cell_type": "markdown",
   "metadata": {},
   "source": [
    "### Exercice 1. \n",
    "How do you fix the following strings? If you run them, there will be an error (see below) because **quotes** \n",
    "  and **backslash** are used for escape characters:\n",
    "\n",
    "       txt1 = \"We are the so-called \"Vikings\" from the north.\"  # invalid syntax\n",
    "\n",
    "       text2 = 'Hello, I'm a string' # invalid syntax\n",
    "\n",
    "       text3 = \"day\\night\"   # this will print day new line ight (see below)"
   ]
  },
  {
   "cell_type": "code",
   "execution_count": 12,
   "metadata": {},
   "outputs": [
    {
     "name": "stdout",
     "output_type": "stream",
     "text": [
      "day\n",
      "ight\n"
     ]
    }
   ],
   "source": [
    "text3 = \"day\\night\"\n",
    "print(text3)"
   ]
  }
 ],
 "metadata": {
  "kernelspec": {
   "display_name": "Python 3",
   "language": "python",
   "name": "python3"
  },
  "language_info": {
   "codemirror_mode": {
    "name": "ipython",
    "version": 3
   },
   "file_extension": ".py",
   "mimetype": "text/x-python",
   "name": "python",
   "nbconvert_exporter": "python",
   "pygments_lexer": "ipython3",
   "version": "3.7.1"
  }
 },
 "nbformat": 4,
 "nbformat_minor": 4
}

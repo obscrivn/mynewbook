{
 "cells": [
  {
   "cell_type": "markdown",
   "metadata": {},
   "source": [
    "# Regex Coding Practice"
   ]
  },
  {
   "cell_type": "markdown",
   "metadata": {},
   "source": [
    "Regular Expressions can be used in various NLP tasks: data pre-processing, pattern matching, text feature engineering, web scraping, data extractions and can be applied in many programming languages (e.g., Java, JS, python, unix sed, R ...)\n",
    "\n",
    "For comparison between python, Perl, Vim - see https://remram44.github.io/regex-cheatsheet/regex.html"
   ]
  },
  {
   "cell_type": "markdown",
   "metadata": {},
   "source": [
    "## Regex Syntax\n",
    "### Class"
   ]
  },
  {
   "cell_type": "markdown",
   "metadata": {},
   "source": [
    "**[  ]** - specifies a character class/ a set of characters to be matched\n",
    "\n",
    "    [abc] - will match a,b,c\n",
    "\n",
    "    [123] - will match 1,2,3\n",
    "    \n"
   ]
  },
  {
   "cell_type": "markdown",
   "metadata": {},
   "source": [
    "### Range"
   ]
  },
  {
   "cell_type": "markdown",
   "metadata": {},
   "source": [
    "**dash** - indicates a range of characters to match\n",
    "\n",
    "    [a-z]  - will match any small letter from a to z\n",
    "\n",
    "    [0-9] -  will match any number from 0 to 9"
   ]
  },
  {
   "cell_type": "markdown",
   "metadata": {},
   "source": [
    "### Operators"
   ]
  },
  {
   "cell_type": "markdown",
   "metadata": {},
   "source": [
    "\\* - will match zero or more\n",
    "\n",
    "    [a-z]* - will match zero or more characters from a to z\n",
    "\n",
    "\\+ - will match one or more\n",
    "\n",
    "    [a-z]+ - will match one or more characters from a to z: a, aa, abd etc\n",
    "\n",
    "? - will match zero or one\n",
    "\n",
    "    A? - Letter A will be optional\n",
    "\n",
    "{n} - will specify exactly how many repetitions (n times)\n",
    "   \n",
    "    A{5} - Letter A is repeated 5 times\n",
    "\n",
    "{n,m} - will specify a range at least n times, but no more than m times\n",
    "\n",
    "    A{2,3} - Letter A could be repeated at least 2 times but no more than 3 times: AA and AAA"
   ]
  },
  {
   "cell_type": "markdown",
   "metadata": {},
   "source": [
    "### Special Metacharacters"
   ]
  },
  {
   "cell_type": "markdown",
   "metadata": {},
   "source": [
    "``. ^ $ * + ? { } [ ] \\ | ( )``\n",
    "\n",
    "``.`` will match any one character (numeric, non-numeric) [Dot]\n",
    "\n",
    "``^`` will match at the beginning of the string [Caret]\n",
    "\n",
    "``$`` will match at the end of the string [Dollar Sign]\n",
    "\n",
    "``|`` will match a boolean OR a|b  [pipe]\n",
    "\n",
    "``\\`` will match literal string meaning of metacharacter [backslash]\n",
    "\n",
    "    the literal meaning cannot be matched unless used with an escape [backslash] ``\\``\n",
    "\n",
    "    Ex. To find a real $, you will need ``\\$``"
   ]
  },
  {
   "cell_type": "markdown",
   "metadata": {},
   "source": [
    "### Regex Shortcuts"
   ]
  },
  {
   "cell_type": "markdown",
   "metadata": {},
   "source": [
    "``\\d``  will match any decimal digit \n",
    "        \n",
    "        this is equivalent to the class [0-9]\n",
    "\n",
    "``\\D``  will match  any non-digit character \n",
    "    \n",
    "        this is equivalent to the class [^0-9]\n",
    "\n",
    "``\\s``  will match any whitespace character\n",
    "\n",
    "        this is equivalent to the class [ \\t\\n\\r\\f\\v]: space, tab, newline, carriage return, vertical tab, page separator\n",
    "\n",
    "``\\S`` will match any non-whitespace character\n",
    "\n",
    "        this is equivalent to the class [^ \\t\\n\\r\\f\\v]\n",
    "\n",
    "``\\w`` will match any alphanumeric character\n",
    "\n",
    "        this is equivalent to the class [a-zA-Z0-9_]\n",
    "\n",
    "``\\W`` will match any non-alphanumeric character\n",
    "\n",
    "        this is equivalent to the class [^a-zA-Z0-9_]"
   ]
  },
  {
   "cell_type": "markdown",
   "metadata": {},
   "source": [
    "### Return"
   ]
  },
  {
   "cell_type": "markdown",
   "metadata": {},
   "source": [
    "``( )`` - will return only what is enclosed in the parenthesis\n",
    "\n",
    "   ``[a-z]*([0-9][0-9])[a-z]`` will match abs12z but return only 12 (see translation for details)\n",
    "\n",
    "**Translation**\n",
    "\n",
    "- [a-z]* - match zero or more of characters from a-z\n",
    "- [0-9] - match one number from the range 0-9\n",
    "- [0-9] - match one number from the range 0-9\n",
    "- [a-z] - match one letter from a to z\n",
    "\n",
    "After the pattern is found\n",
    "\n",
    "- ([0-9][0-9]) - select and print/return two numbers"
   ]
  },
  {
   "cell_type": "markdown",
   "metadata": {},
   "source": [
    "## Python Built-In RegEx Modules"
   ]
  },
  {
   "cell_type": "markdown",
   "metadata": {},
   "source": [
    "Python has a built-in module for regular expressions called **re**. Here are common methods:\n",
    "\n",
    "- `re.sub()`\n",
    "- `re.match()`\n",
    "- `re.search()`\n",
    "- `re.findall()`"
   ]
  },
  {
   "cell_type": "code",
   "execution_count": 5,
   "metadata": {},
   "outputs": [],
   "source": [
    "import re"
   ]
  },
  {
   "cell_type": "markdown",
   "metadata": {},
   "source": [
    "### re.sub"
   ]
  },
  {
   "cell_type": "markdown",
   "metadata": {},
   "source": [
    "``re.sub(pattern, repl, string, count=0, flags=0)``\n",
    "\n",
    "- pattern is a regular expression that you want to match\n",
    "- repl is the replacement\n",
    "- string is the input string\n",
    "- count parameter specifies the maximum number of matches to replace. \n",
    "        zero count parameter (default) will replace all the matches\n",
    "- If the sub() function cannot find a match, it returns the original string"
   ]
  },
  {
   "cell_type": "markdown",
   "metadata": {},
   "source": [
    "**Ex.1** Replace the current phone number format (212)-456-7890 by digits only (no other characters). Note: review regex shortcuts."
   ]
  },
  {
   "cell_type": "code",
   "execution_count": 6,
   "metadata": {},
   "outputs": [
    {
     "name": "stdout",
     "output_type": "stream",
     "text": [
      "2124567890\n"
     ]
    }
   ],
   "source": [
    "phone_no = '(212)-456-7890'\n",
    "pattern = '\\D'\n",
    "result = re.sub(pattern, '',phone_no)\n",
    "print(result)"
   ]
  },
  {
   "cell_type": "markdown",
   "metadata": {},
   "source": [
    "**Ex.2** replace text surrounded with (*) (markdown format) with the <strong> tag in HTML\n",
    "\n",
    "- ``r`` means the string will be treated as raw string\n",
    "- ``<strong></strong>`` are two HTML tags. Because the closing tag ``</strong>`` has a literal backslash, you need to add a second backslash, otherwise it will be treaated as a metacharacter"
   ]
  },
  {
   "cell_type": "code",
   "execution_count": 8,
   "metadata": {},
   "outputs": [
    {
     "name": "stdout",
     "output_type": "stream",
     "text": [
      "Restaurant Review <strong>Better Place<\\strong>\n"
     ]
    }
   ],
   "source": [
    "string = 'Restaurant Review *Better Place*'\n",
    "pattern = r'\\*(.*?)\\*' \n",
    "replacement = r'<strong>\\1<\\\\strong>'\n",
    "html = re.sub(pattern, replacement, string)\n",
    "print(html)"
   ]
  },
  {
   "cell_type": "markdown",
   "metadata": {},
   "source": [
    "Translation\n"
   ]
  },
  {
   "cell_type": "markdown",
   "metadata": {},
   "source": [
    "### re.match"
   ]
  },
  {
   "cell_type": "markdown",
   "metadata": {},
   "source": [
    "`re.match(pattern, string)`  returns a match object on success and none on failure."
   ]
  },
  {
   "cell_type": "code",
   "execution_count": null,
   "metadata": {},
   "outputs": [],
   "source": [
    "import re\n",
    "\n",
    "#match a word at the beginning of a string\n",
    "\n",
    "result = re.match('NLP',r'NLP is ')\n",
    "print(result)"
   ]
  },
  {
   "cell_type": "markdown",
   "metadata": {},
   "source": [
    "Sources:\n",
    "    \n",
    "<small>https://www.pythontutorial.net/python-regex/python-regex-sub/</small>\n",
    "\n",
    "https://www.analyticsvidhya.com/blog/2021/03/beginners-guide-to-regular-expressions-in-natural-language-processing/\n",
    "\n",
    "https://www.kaggle.com/code/albeffe/regex-exercises-solutions\n",
    "\n",
    "https://regexone.com/references/python"
   ]
  },
  {
   "cell_type": "code",
   "execution_count": null,
   "metadata": {},
   "outputs": [],
   "source": []
  }
 ],
 "metadata": {
  "kernelspec": {
   "display_name": "Python 3",
   "language": "python",
   "name": "python3"
  },
  "language_info": {
   "codemirror_mode": {
    "name": "ipython",
    "version": 3
   },
   "file_extension": ".py",
   "mimetype": "text/x-python",
   "name": "python",
   "nbconvert_exporter": "python",
   "pygments_lexer": "ipython3",
   "version": "3.7.1"
  }
 },
 "nbformat": 4,
 "nbformat_minor": 4
}

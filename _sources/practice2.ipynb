{
 "cells": [
  {
   "cell_type": "markdown",
   "metadata": {},
   "source": [
    "## Tokenization Pipeline"
   ]
  },
  {
   "cell_type": "code",
   "execution_count": 3,
   "metadata": {},
   "outputs": [],
   "source": [
    "#libraries\n",
    "import numpy as np\n",
    "import re\n",
    "import string\n",
    "import collections\n",
    "import nltk\n",
    "from nltk.tokenize import sent_tokenize\n",
    "from nltk.tokenize import word_tokenize\n",
    "from nltk import pos_tag\n",
    "from nltk.stem import PorterStemmer\n",
    "from nltk.corpus import stopwords\n",
    "from nltk.stem import WordNetLemmatizer\n",
    "from nltk.chunk import RegexpParser\n",
    "from nltk.corpus import gutenberg\n",
    "import pandas as pd"
   ]
  },
  {
   "cell_type": "code",
   "execution_count": 4,
   "metadata": {},
   "outputs": [],
   "source": [
    "text = '''Joe waited for the train. The train was late. Mary and Samantha took the bus. \n",
    "I looked for Mary and Samantha at the bus stations. '''"
   ]
  },
  {
   "cell_type": "markdown",
   "metadata": {},
   "source": [
    "### Sentence Level"
   ]
  },
  {
   "cell_type": "code",
   "execution_count": 5,
   "metadata": {},
   "outputs": [
    {
     "name": "stdout",
     "output_type": "stream",
     "text": [
      "['Joe waited for the train.', 'The train was late.', 'Mary and Samantha took the bus.', 'I looked for Mary and Samantha at the bus stations.']\n"
     ]
    }
   ],
   "source": [
    "tokenized_sent=sent_tokenize(text) \n",
    "print(tokenized_sent)"
   ]
  },
  {
   "cell_type": "markdown",
   "metadata": {},
   "source": [
    "### Word Level"
   ]
  },
  {
   "cell_type": "code",
   "execution_count": 6,
   "metadata": {},
   "outputs": [
    {
     "name": "stdout",
     "output_type": "stream",
     "text": [
      "['Joe', 'waited', 'for', 'the', 'train', '.', 'The', 'train', 'was', 'late', '.', 'Mary', 'and', 'Samantha', 'took', 'the', 'bus', '.', 'I', 'looked', 'for', 'Mary', 'and', 'Samantha', 'at', 'the', 'bus', 'stations', '.']\n"
     ]
    }
   ],
   "source": [
    "tokenized_word=word_tokenize(text)\n",
    "print(tokenized_word)"
   ]
  },
  {
   "cell_type": "markdown",
   "metadata": {},
   "source": [
    "### POS Level\n",
    "Do not remove punctuation and stop words"
   ]
  },
  {
   "cell_type": "code",
   "execution_count": 7,
   "metadata": {},
   "outputs": [
    {
     "data": {
      "text/html": [
       "<div>\n",
       "<style scoped>\n",
       "    .dataframe tbody tr th:only-of-type {\n",
       "        vertical-align: middle;\n",
       "    }\n",
       "\n",
       "    .dataframe tbody tr th {\n",
       "        vertical-align: top;\n",
       "    }\n",
       "\n",
       "    .dataframe thead th {\n",
       "        text-align: right;\n",
       "    }\n",
       "</style>\n",
       "<table border=\"1\" class=\"dataframe\">\n",
       "  <thead>\n",
       "    <tr style=\"text-align: right;\">\n",
       "      <th></th>\n",
       "      <th>0</th>\n",
       "      <th>1</th>\n",
       "      <th>2</th>\n",
       "      <th>3</th>\n",
       "      <th>4</th>\n",
       "      <th>5</th>\n",
       "      <th>6</th>\n",
       "      <th>7</th>\n",
       "      <th>8</th>\n",
       "      <th>9</th>\n",
       "      <th>...</th>\n",
       "      <th>19</th>\n",
       "      <th>20</th>\n",
       "      <th>21</th>\n",
       "      <th>22</th>\n",
       "      <th>23</th>\n",
       "      <th>24</th>\n",
       "      <th>25</th>\n",
       "      <th>26</th>\n",
       "      <th>27</th>\n",
       "      <th>28</th>\n",
       "    </tr>\n",
       "  </thead>\n",
       "  <tbody>\n",
       "    <tr>\n",
       "      <th>Word</th>\n",
       "      <td>Joe</td>\n",
       "      <td>waited</td>\n",
       "      <td>for</td>\n",
       "      <td>the</td>\n",
       "      <td>train</td>\n",
       "      <td>.</td>\n",
       "      <td>The</td>\n",
       "      <td>train</td>\n",
       "      <td>was</td>\n",
       "      <td>late</td>\n",
       "      <td>...</td>\n",
       "      <td>looked</td>\n",
       "      <td>for</td>\n",
       "      <td>Mary</td>\n",
       "      <td>and</td>\n",
       "      <td>Samantha</td>\n",
       "      <td>at</td>\n",
       "      <td>the</td>\n",
       "      <td>bus</td>\n",
       "      <td>stations</td>\n",
       "      <td>.</td>\n",
       "    </tr>\n",
       "    <tr>\n",
       "      <th>POS tag</th>\n",
       "      <td>NNP</td>\n",
       "      <td>VBD</td>\n",
       "      <td>IN</td>\n",
       "      <td>DT</td>\n",
       "      <td>NN</td>\n",
       "      <td>.</td>\n",
       "      <td>DT</td>\n",
       "      <td>NN</td>\n",
       "      <td>VBD</td>\n",
       "      <td>JJ</td>\n",
       "      <td>...</td>\n",
       "      <td>VBD</td>\n",
       "      <td>IN</td>\n",
       "      <td>NNP</td>\n",
       "      <td>CC</td>\n",
       "      <td>NNP</td>\n",
       "      <td>IN</td>\n",
       "      <td>DT</td>\n",
       "      <td>NN</td>\n",
       "      <td>NNS</td>\n",
       "      <td>.</td>\n",
       "    </tr>\n",
       "  </tbody>\n",
       "</table>\n",
       "<p>2 rows × 29 columns</p>\n",
       "</div>"
      ],
      "text/plain": [
       "          0       1    2    3      4  5    6      7    8     9   ...      19  \\\n",
       "Word     Joe  waited  for  the  train  .  The  train  was  late  ...  looked   \n",
       "POS tag  NNP     VBD   IN   DT     NN  .   DT     NN  VBD    JJ  ...     VBD   \n",
       "\n",
       "          20    21   22        23  24   25   26        27 28  \n",
       "Word     for  Mary  and  Samantha  at  the  bus  stations  .  \n",
       "POS tag   IN   NNP   CC       NNP  IN   DT   NN       NNS  .  \n",
       "\n",
       "[2 rows x 29 columns]"
      ]
     },
     "execution_count": 7,
     "metadata": {},
     "output_type": "execute_result"
    }
   ],
   "source": [
    "pos_tagged = pos_tag(tokenized_word)\n",
    "pd.DataFrame(pos_tagged, columns=['Word', 'POS tag']).T"
   ]
  },
  {
   "cell_type": "markdown",
   "metadata": {},
   "source": [
    "### NP-Chunking"
   ]
  },
  {
   "cell_type": "code",
   "execution_count": 8,
   "metadata": {},
   "outputs": [],
   "source": [
    "grammar = \"\"\"\n",
    "NP: {<DT>?<JJ>?<NN.*>}\n",
    "\"\"\""
   ]
  },
  {
   "cell_type": "code",
   "execution_count": 9,
   "metadata": {},
   "outputs": [
    {
     "name": "stdout",
     "output_type": "stream",
     "text": [
      "(S\n",
      "  (NP Joe/NNP)\n",
      "  waited/VBD\n",
      "  for/IN\n",
      "  (NP the/DT train/NN)\n",
      "  ./.\n",
      "  (NP The/DT train/NN)\n",
      "  was/VBD\n",
      "  late/JJ\n",
      "  ./.\n",
      "  (NP Mary/NNP)\n",
      "  and/CC\n",
      "  (NP Samantha/NNP)\n",
      "  took/VBD\n",
      "  (NP the/DT bus/NN)\n",
      "  ./.\n",
      "  I/PRP\n",
      "  looked/VBD\n",
      "  for/IN\n",
      "  (NP Mary/NNP)\n",
      "  and/CC\n",
      "  (NP Samantha/NNP)\n",
      "  at/IN\n",
      "  (NP the/DT bus/NN)\n",
      "  (NP stations/NNS)\n",
      "  ./.)\n"
     ]
    }
   ],
   "source": [
    "rc = RegexpParser(grammar)\n",
    "c = rc.parse(pos_tagged)\n",
    "print(c)"
   ]
  },
  {
   "cell_type": "markdown",
   "metadata": {},
   "source": [
    "### Remove Punctuation"
   ]
  },
  {
   "cell_type": "code",
   "execution_count": 10,
   "metadata": {},
   "outputs": [
    {
     "name": "stdout",
     "output_type": "stream",
     "text": [
      "['joe', 'waited', 'for', 'the', 'train', 'the', 'train', 'was', 'late', 'mary', 'and', 'samantha', 'took', 'the', 'bus', 'i', 'looked', 'for', 'mary', 'and', 'samantha', 'at', 'the', 'bus', 'stations']\n"
     ]
    }
   ],
   "source": [
    "# remove all tokens that are not alphabetic\n",
    "words = [word.lower() for word in tokenized_word if word.isalpha()]\n",
    "print(words)"
   ]
  },
  {
   "cell_type": "code",
   "execution_count": 11,
   "metadata": {},
   "outputs": [
    {
     "data": {
      "text/plain": [
       "[('the', 4),\n",
       " ('for', 2),\n",
       " ('train', 2),\n",
       " ('mary', 2),\n",
       " ('and', 2),\n",
       " ('samantha', 2),\n",
       " ('bus', 2),\n",
       " ('joe', 1),\n",
       " ('waited', 1),\n",
       " ('was', 1)]"
      ]
     },
     "execution_count": 11,
     "metadata": {},
     "output_type": "execute_result"
    }
   ],
   "source": [
    "word_counts = collections.Counter(words)\n",
    "word_counts.most_common(10)"
   ]
  },
  {
   "cell_type": "code",
   "execution_count": 12,
   "metadata": {},
   "outputs": [],
   "source": [
    "stop_words = stopwords.words('english')\n",
    "filtered_words = [w for w in words if not w in stop_words] "
   ]
  },
  {
   "cell_type": "code",
   "execution_count": 13,
   "metadata": {},
   "outputs": [
    {
     "data": {
      "text/plain": [
       "[('train', 2),\n",
       " ('mary', 2),\n",
       " ('samantha', 2),\n",
       " ('bus', 2),\n",
       " ('joe', 1),\n",
       " ('waited', 1),\n",
       " ('late', 1),\n",
       " ('took', 1),\n",
       " ('looked', 1),\n",
       " ('stations', 1)]"
      ]
     },
     "execution_count": 13,
     "metadata": {},
     "output_type": "execute_result"
    }
   ],
   "source": [
    "word_counts = collections.Counter(filtered_words)\n",
    "word_counts.most_common(10)"
   ]
  },
  {
   "cell_type": "code",
   "execution_count": 14,
   "metadata": {},
   "outputs": [],
   "source": [
    "custom_list = ['looked'] # add more stopwords\n",
    "stop_words.extend(custom_list)"
   ]
  },
  {
   "cell_type": "code",
   "execution_count": 15,
   "metadata": {},
   "outputs": [
    {
     "data": {
      "text/plain": [
       "[('train', 2),\n",
       " ('mary', 2),\n",
       " ('samantha', 2),\n",
       " ('bus', 2),\n",
       " ('joe', 1),\n",
       " ('waited', 1),\n",
       " ('late', 1),\n",
       " ('took', 1),\n",
       " ('stations', 1)]"
      ]
     },
     "execution_count": 15,
     "metadata": {},
     "output_type": "execute_result"
    }
   ],
   "source": [
    "extended_words = [w for w in words if not w in stop_words] \n",
    "word_counts = collections.Counter(extended_words)\n",
    "word_counts.most_common(10)"
   ]
  },
  {
   "cell_type": "code",
   "execution_count": 16,
   "metadata": {},
   "outputs": [],
   "source": [
    "stop_words = list(set(stopwords.words('english')) - set(['at'])) # remove stopswords"
   ]
  },
  {
   "cell_type": "markdown",
   "metadata": {},
   "source": [
    "### Stemmers"
   ]
  },
  {
   "cell_type": "code",
   "execution_count": 17,
   "metadata": {},
   "outputs": [
    {
     "name": "stdout",
     "output_type": "stream",
     "text": [
      "['joe', 'wait', 'for', 'the', 'train', 'the', 'train', 'wa', 'late', 'mari', 'and', 'samantha', 'took', 'the', 'bu', 'i', 'look', 'for', 'mari', 'and', 'samantha', 'at', 'the', 'bu', 'station']\n"
     ]
    }
   ],
   "source": [
    "ps = PorterStemmer()\n",
    "stemmed = [ps.stem(word) for word in words]\n",
    "print(stemmed)"
   ]
  },
  {
   "cell_type": "markdown",
   "metadata": {},
   "source": [
    "### Lemmatizer"
   ]
  },
  {
   "cell_type": "code",
   "execution_count": 18,
   "metadata": {},
   "outputs": [
    {
     "name": "stdout",
     "output_type": "stream",
     "text": [
      "['joe', 'waited', 'train', 'train', 'late', 'mary', 'samantha', 'took', 'bus', 'looked']\n"
     ]
    }
   ],
   "source": [
    "lemmatizer = WordNetLemmatizer()\n",
    "lemmatized = [lemmatizer.lemmatize(w) for w in filtered_words]\n",
    "print(lemmatized[0:10])"
   ]
  },
  {
   "cell_type": "code",
   "execution_count": 19,
   "metadata": {},
   "outputs": [],
   "source": [
    "#from nltk.tokenize import sent_tokenize\n",
    "#from nltk.tokenize import word_tokenize\n",
    "def normalize_corpus(corpus, text_lower_case=True,\n",
    "                     text_lemmatization=True, text_stemmer=False, text_punct=True,\n",
    "                     stopword_removal=True):\n",
    "\n",
    "    lemmatizer = WordNetLemmatizer()\n",
    "    stop_words = stopwords.words('english')\n",
    "    normalized_corpus = []\n",
    "    # normalize each document in the corpus\n",
    "    for doc in corpus:\n",
    "        # lowercase the text\n",
    "        if text_lower_case:\n",
    "            doc = doc.lower()\n",
    "        # remove extra newlines\n",
    "        doc = re.sub(r'[\\r|\\n|\\r\\n]+', ' ',doc)\n",
    "        # lemmatize text\n",
    "        if text_punct:\n",
    "            tokens = word_tokenize(doc)\n",
    "            tokens = [token.lower() for token in tokens if token.isalpha()]\n",
    "            doc = ' '.join(tokens) \n",
    "        if text_lemmatization:\n",
    "            word_list = word_tokenize(doc)\n",
    "            doc = ' '.join([lemmatizer.lemmatize(w) for w in word_list])       \n",
    "        # remove extra whitespace\n",
    "        doc = re.sub(' +', ' ', doc)\n",
    "        # remove stopwords\n",
    "        if stopword_removal:\n",
    "            tokens = word_tokenize(doc)\n",
    "            tokens = [token.strip() for token in tokens]\n",
    "            filtered_tokens = [token for token in tokens if token.lower() not in stop_words]\n",
    "            doc = ' '.join(filtered_tokens) \n",
    "        if text_stemmer:\n",
    "            ps = nltk.porter.PorterStemmer()\n",
    "            doc = ' '.join([ps.stem(word) for word in doc.split()])\n",
    "        normalized_corpus.append(doc)\n",
    "    return normalized_corpus"
   ]
  },
  {
   "cell_type": "code",
   "execution_count": 20,
   "metadata": {},
   "outputs": [],
   "source": [
    "corpus=sent_tokenize(text=text)"
   ]
  },
  {
   "cell_type": "code",
   "execution_count": 21,
   "metadata": {},
   "outputs": [],
   "source": [
    "# normalize our corpus\n",
    "norm_corpus = normalize_corpus(corpus, \n",
    "                                 text_lower_case=True, text_lemmatization=False,\n",
    "                                 text_stemmer=False, stopword_removal=True)"
   ]
  },
  {
   "cell_type": "code",
   "execution_count": 22,
   "metadata": {},
   "outputs": [
    {
     "data": {
      "text/plain": [
       "['joe waited train',\n",
       " 'train late',\n",
       " 'mary samantha took bus',\n",
       " 'looked mary samantha bus stations']"
      ]
     },
     "execution_count": 22,
     "metadata": {},
     "output_type": "execute_result"
    }
   ],
   "source": [
    "norm_corpus"
   ]
  },
  {
   "cell_type": "code",
   "execution_count": null,
   "metadata": {},
   "outputs": [],
   "source": []
  }
 ],
 "metadata": {
  "kernelspec": {
   "display_name": "Python 3",
   "language": "python",
   "name": "python3"
  },
  "language_info": {
   "codemirror_mode": {
    "name": "ipython",
    "version": 3
   },
   "file_extension": ".py",
   "mimetype": "text/x-python",
   "name": "python",
   "nbconvert_exporter": "python",
   "pygments_lexer": "ipython3",
   "version": "3.7.1"
  }
 },
 "nbformat": 4,
 "nbformat_minor": 4
}
